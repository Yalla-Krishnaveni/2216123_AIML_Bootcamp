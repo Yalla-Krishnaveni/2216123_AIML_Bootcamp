{
  "nbformat": 4,
  "nbformat_minor": 0,
  "metadata": {
    "colab": {
      "name": "Day_7.ipynb",
      "provenance": [],
      "collapsed_sections": [],
      "mount_file_id": "1QrSV7aekL69tJCpzX_tTeeHYqzlKQWXN",
      "authorship_tag": "ABX9TyN7Jxu0jVDvEoGmXG5cXQaY",
      "include_colab_link": true
    },
    "kernelspec": {
      "name": "python3",
      "display_name": "Python 3"
    },
    "language_info": {
      "name": "python"
    }
  },
  "cells": [
    {
      "cell_type": "markdown",
      "metadata": {
        "id": "view-in-github",
        "colab_type": "text"
      },
      "source": [
        "<a href=\"https://colab.research.google.com/github/Yalla-Krishnaveni/2216123_AIML_Bootcamp/blob/main/Day_7.ipynb\" target=\"_parent\"><img src=\"https://colab.research.google.com/assets/colab-badge.svg\" alt=\"Open In Colab\"/></a>"
      ]
    },
    {
      "cell_type": "code",
      "execution_count": 23,
      "metadata": {
        "id": "s4thcfrjy99n"
      },
      "outputs": [],
      "source": [
        "#step1\n",
        "dataset=\"/content/drive/MyDrive/SUV_Purchase.csv\"\n",
        "import pandas as pd\n",
        "\n",
        "df=pd.read_csv(dataset)#dataframe-2D"
      ]
    },
    {
      "cell_type": "code",
      "source": [
        "df.head()"
      ],
      "metadata": {
        "colab": {
          "base_uri": "https://localhost:8080/",
          "height": 206
        },
        "id": "0P6Llm6ozvSB",
        "outputId": "4ef48003-f89a-466e-fd59-c105587bcfde"
      },
      "execution_count": 24,
      "outputs": [
        {
          "output_type": "execute_result",
          "data": {
            "text/plain": [
              "    User ID  Gender  Age  EstimatedSalary  Purchased\n",
              "0  15624510    Male   19            19000          0\n",
              "1  15810944    Male   35            20000          0\n",
              "2  15668575  Female   26            43000          0\n",
              "3  15603246  Female   27            57000          0\n",
              "4  15804002    Male   19            76000          0"
            ],
            "text/html": [
              "\n",
              "  <div id=\"df-45de7732-b4f1-41c9-a521-631fc84b1d5f\">\n",
              "    <div class=\"colab-df-container\">\n",
              "      <div>\n",
              "<style scoped>\n",
              "    .dataframe tbody tr th:only-of-type {\n",
              "        vertical-align: middle;\n",
              "    }\n",
              "\n",
              "    .dataframe tbody tr th {\n",
              "        vertical-align: top;\n",
              "    }\n",
              "\n",
              "    .dataframe thead th {\n",
              "        text-align: right;\n",
              "    }\n",
              "</style>\n",
              "<table border=\"1\" class=\"dataframe\">\n",
              "  <thead>\n",
              "    <tr style=\"text-align: right;\">\n",
              "      <th></th>\n",
              "      <th>User ID</th>\n",
              "      <th>Gender</th>\n",
              "      <th>Age</th>\n",
              "      <th>EstimatedSalary</th>\n",
              "      <th>Purchased</th>\n",
              "    </tr>\n",
              "  </thead>\n",
              "  <tbody>\n",
              "    <tr>\n",
              "      <th>0</th>\n",
              "      <td>15624510</td>\n",
              "      <td>Male</td>\n",
              "      <td>19</td>\n",
              "      <td>19000</td>\n",
              "      <td>0</td>\n",
              "    </tr>\n",
              "    <tr>\n",
              "      <th>1</th>\n",
              "      <td>15810944</td>\n",
              "      <td>Male</td>\n",
              "      <td>35</td>\n",
              "      <td>20000</td>\n",
              "      <td>0</td>\n",
              "    </tr>\n",
              "    <tr>\n",
              "      <th>2</th>\n",
              "      <td>15668575</td>\n",
              "      <td>Female</td>\n",
              "      <td>26</td>\n",
              "      <td>43000</td>\n",
              "      <td>0</td>\n",
              "    </tr>\n",
              "    <tr>\n",
              "      <th>3</th>\n",
              "      <td>15603246</td>\n",
              "      <td>Female</td>\n",
              "      <td>27</td>\n",
              "      <td>57000</td>\n",
              "      <td>0</td>\n",
              "    </tr>\n",
              "    <tr>\n",
              "      <th>4</th>\n",
              "      <td>15804002</td>\n",
              "      <td>Male</td>\n",
              "      <td>19</td>\n",
              "      <td>76000</td>\n",
              "      <td>0</td>\n",
              "    </tr>\n",
              "  </tbody>\n",
              "</table>\n",
              "</div>\n",
              "      <button class=\"colab-df-convert\" onclick=\"convertToInteractive('df-45de7732-b4f1-41c9-a521-631fc84b1d5f')\"\n",
              "              title=\"Convert this dataframe to an interactive table.\"\n",
              "              style=\"display:none;\">\n",
              "        \n",
              "  <svg xmlns=\"http://www.w3.org/2000/svg\" height=\"24px\"viewBox=\"0 0 24 24\"\n",
              "       width=\"24px\">\n",
              "    <path d=\"M0 0h24v24H0V0z\" fill=\"none\"/>\n",
              "    <path d=\"M18.56 5.44l.94 2.06.94-2.06 2.06-.94-2.06-.94-.94-2.06-.94 2.06-2.06.94zm-11 1L8.5 8.5l.94-2.06 2.06-.94-2.06-.94L8.5 2.5l-.94 2.06-2.06.94zm10 10l.94 2.06.94-2.06 2.06-.94-2.06-.94-.94-2.06-.94 2.06-2.06.94z\"/><path d=\"M17.41 7.96l-1.37-1.37c-.4-.4-.92-.59-1.43-.59-.52 0-1.04.2-1.43.59L10.3 9.45l-7.72 7.72c-.78.78-.78 2.05 0 2.83L4 21.41c.39.39.9.59 1.41.59.51 0 1.02-.2 1.41-.59l7.78-7.78 2.81-2.81c.8-.78.8-2.07 0-2.86zM5.41 20L4 18.59l7.72-7.72 1.47 1.35L5.41 20z\"/>\n",
              "  </svg>\n",
              "      </button>\n",
              "      \n",
              "  <style>\n",
              "    .colab-df-container {\n",
              "      display:flex;\n",
              "      flex-wrap:wrap;\n",
              "      gap: 12px;\n",
              "    }\n",
              "\n",
              "    .colab-df-convert {\n",
              "      background-color: #E8F0FE;\n",
              "      border: none;\n",
              "      border-radius: 50%;\n",
              "      cursor: pointer;\n",
              "      display: none;\n",
              "      fill: #1967D2;\n",
              "      height: 32px;\n",
              "      padding: 0 0 0 0;\n",
              "      width: 32px;\n",
              "    }\n",
              "\n",
              "    .colab-df-convert:hover {\n",
              "      background-color: #E2EBFA;\n",
              "      box-shadow: 0px 1px 2px rgba(60, 64, 67, 0.3), 0px 1px 3px 1px rgba(60, 64, 67, 0.15);\n",
              "      fill: #174EA6;\n",
              "    }\n",
              "\n",
              "    [theme=dark] .colab-df-convert {\n",
              "      background-color: #3B4455;\n",
              "      fill: #D2E3FC;\n",
              "    }\n",
              "\n",
              "    [theme=dark] .colab-df-convert:hover {\n",
              "      background-color: #434B5C;\n",
              "      box-shadow: 0px 1px 3px 1px rgba(0, 0, 0, 0.15);\n",
              "      filter: drop-shadow(0px 1px 2px rgba(0, 0, 0, 0.3));\n",
              "      fill: #FFFFFF;\n",
              "    }\n",
              "  </style>\n",
              "\n",
              "      <script>\n",
              "        const buttonEl =\n",
              "          document.querySelector('#df-45de7732-b4f1-41c9-a521-631fc84b1d5f button.colab-df-convert');\n",
              "        buttonEl.style.display =\n",
              "          google.colab.kernel.accessAllowed ? 'block' : 'none';\n",
              "\n",
              "        async function convertToInteractive(key) {\n",
              "          const element = document.querySelector('#df-45de7732-b4f1-41c9-a521-631fc84b1d5f');\n",
              "          const dataTable =\n",
              "            await google.colab.kernel.invokeFunction('convertToInteractive',\n",
              "                                                     [key], {});\n",
              "          if (!dataTable) return;\n",
              "\n",
              "          const docLinkHtml = 'Like what you see? Visit the ' +\n",
              "            '<a target=\"_blank\" href=https://colab.research.google.com/notebooks/data_table.ipynb>data table notebook</a>'\n",
              "            + ' to learn more about interactive tables.';\n",
              "          element.innerHTML = '';\n",
              "          dataTable['output_type'] = 'display_data';\n",
              "          await google.colab.output.renderOutput(dataTable, element);\n",
              "          const docLink = document.createElement('div');\n",
              "          docLink.innerHTML = docLinkHtml;\n",
              "          element.appendChild(docLink);\n",
              "        }\n",
              "      </script>\n",
              "    </div>\n",
              "  </div>\n",
              "  "
            ]
          },
          "metadata": {},
          "execution_count": 24
        }
      ]
    },
    {
      "cell_type": "code",
      "source": [
        "df.info()"
      ],
      "metadata": {
        "colab": {
          "base_uri": "https://localhost:8080/"
        },
        "id": "bmMVdhXgzzgU",
        "outputId": "e8265e24-3c9d-4e82-9d34-f453476a4f07"
      },
      "execution_count": 25,
      "outputs": [
        {
          "output_type": "stream",
          "name": "stdout",
          "text": [
            "<class 'pandas.core.frame.DataFrame'>\n",
            "RangeIndex: 400 entries, 0 to 399\n",
            "Data columns (total 5 columns):\n",
            " #   Column           Non-Null Count  Dtype \n",
            "---  ------           --------------  ----- \n",
            " 0   User ID          400 non-null    int64 \n",
            " 1   Gender           400 non-null    object\n",
            " 2   Age              400 non-null    int64 \n",
            " 3   EstimatedSalary  400 non-null    int64 \n",
            " 4   Purchased        400 non-null    int64 \n",
            "dtypes: int64(4), object(1)\n",
            "memory usage: 15.8+ KB\n"
          ]
        }
      ]
    },
    {
      "cell_type": "code",
      "source": [
        "df.isnull()"
      ],
      "metadata": {
        "colab": {
          "base_uri": "https://localhost:8080/",
          "height": 424
        },
        "id": "DuB4bFPyz0rG",
        "outputId": "721a4c0e-b0fa-48e4-98e6-0709bb8d4dbf"
      },
      "execution_count": 26,
      "outputs": [
        {
          "output_type": "execute_result",
          "data": {
            "text/plain": [
              "     User ID  Gender    Age  EstimatedSalary  Purchased\n",
              "0      False   False  False            False      False\n",
              "1      False   False  False            False      False\n",
              "2      False   False  False            False      False\n",
              "3      False   False  False            False      False\n",
              "4      False   False  False            False      False\n",
              "..       ...     ...    ...              ...        ...\n",
              "395    False   False  False            False      False\n",
              "396    False   False  False            False      False\n",
              "397    False   False  False            False      False\n",
              "398    False   False  False            False      False\n",
              "399    False   False  False            False      False\n",
              "\n",
              "[400 rows x 5 columns]"
            ],
            "text/html": [
              "\n",
              "  <div id=\"df-fd6c6c08-1289-4218-a44c-ef9b66eaba1e\">\n",
              "    <div class=\"colab-df-container\">\n",
              "      <div>\n",
              "<style scoped>\n",
              "    .dataframe tbody tr th:only-of-type {\n",
              "        vertical-align: middle;\n",
              "    }\n",
              "\n",
              "    .dataframe tbody tr th {\n",
              "        vertical-align: top;\n",
              "    }\n",
              "\n",
              "    .dataframe thead th {\n",
              "        text-align: right;\n",
              "    }\n",
              "</style>\n",
              "<table border=\"1\" class=\"dataframe\">\n",
              "  <thead>\n",
              "    <tr style=\"text-align: right;\">\n",
              "      <th></th>\n",
              "      <th>User ID</th>\n",
              "      <th>Gender</th>\n",
              "      <th>Age</th>\n",
              "      <th>EstimatedSalary</th>\n",
              "      <th>Purchased</th>\n",
              "    </tr>\n",
              "  </thead>\n",
              "  <tbody>\n",
              "    <tr>\n",
              "      <th>0</th>\n",
              "      <td>False</td>\n",
              "      <td>False</td>\n",
              "      <td>False</td>\n",
              "      <td>False</td>\n",
              "      <td>False</td>\n",
              "    </tr>\n",
              "    <tr>\n",
              "      <th>1</th>\n",
              "      <td>False</td>\n",
              "      <td>False</td>\n",
              "      <td>False</td>\n",
              "      <td>False</td>\n",
              "      <td>False</td>\n",
              "    </tr>\n",
              "    <tr>\n",
              "      <th>2</th>\n",
              "      <td>False</td>\n",
              "      <td>False</td>\n",
              "      <td>False</td>\n",
              "      <td>False</td>\n",
              "      <td>False</td>\n",
              "    </tr>\n",
              "    <tr>\n",
              "      <th>3</th>\n",
              "      <td>False</td>\n",
              "      <td>False</td>\n",
              "      <td>False</td>\n",
              "      <td>False</td>\n",
              "      <td>False</td>\n",
              "    </tr>\n",
              "    <tr>\n",
              "      <th>4</th>\n",
              "      <td>False</td>\n",
              "      <td>False</td>\n",
              "      <td>False</td>\n",
              "      <td>False</td>\n",
              "      <td>False</td>\n",
              "    </tr>\n",
              "    <tr>\n",
              "      <th>...</th>\n",
              "      <td>...</td>\n",
              "      <td>...</td>\n",
              "      <td>...</td>\n",
              "      <td>...</td>\n",
              "      <td>...</td>\n",
              "    </tr>\n",
              "    <tr>\n",
              "      <th>395</th>\n",
              "      <td>False</td>\n",
              "      <td>False</td>\n",
              "      <td>False</td>\n",
              "      <td>False</td>\n",
              "      <td>False</td>\n",
              "    </tr>\n",
              "    <tr>\n",
              "      <th>396</th>\n",
              "      <td>False</td>\n",
              "      <td>False</td>\n",
              "      <td>False</td>\n",
              "      <td>False</td>\n",
              "      <td>False</td>\n",
              "    </tr>\n",
              "    <tr>\n",
              "      <th>397</th>\n",
              "      <td>False</td>\n",
              "      <td>False</td>\n",
              "      <td>False</td>\n",
              "      <td>False</td>\n",
              "      <td>False</td>\n",
              "    </tr>\n",
              "    <tr>\n",
              "      <th>398</th>\n",
              "      <td>False</td>\n",
              "      <td>False</td>\n",
              "      <td>False</td>\n",
              "      <td>False</td>\n",
              "      <td>False</td>\n",
              "    </tr>\n",
              "    <tr>\n",
              "      <th>399</th>\n",
              "      <td>False</td>\n",
              "      <td>False</td>\n",
              "      <td>False</td>\n",
              "      <td>False</td>\n",
              "      <td>False</td>\n",
              "    </tr>\n",
              "  </tbody>\n",
              "</table>\n",
              "<p>400 rows × 5 columns</p>\n",
              "</div>\n",
              "      <button class=\"colab-df-convert\" onclick=\"convertToInteractive('df-fd6c6c08-1289-4218-a44c-ef9b66eaba1e')\"\n",
              "              title=\"Convert this dataframe to an interactive table.\"\n",
              "              style=\"display:none;\">\n",
              "        \n",
              "  <svg xmlns=\"http://www.w3.org/2000/svg\" height=\"24px\"viewBox=\"0 0 24 24\"\n",
              "       width=\"24px\">\n",
              "    <path d=\"M0 0h24v24H0V0z\" fill=\"none\"/>\n",
              "    <path d=\"M18.56 5.44l.94 2.06.94-2.06 2.06-.94-2.06-.94-.94-2.06-.94 2.06-2.06.94zm-11 1L8.5 8.5l.94-2.06 2.06-.94-2.06-.94L8.5 2.5l-.94 2.06-2.06.94zm10 10l.94 2.06.94-2.06 2.06-.94-2.06-.94-.94-2.06-.94 2.06-2.06.94z\"/><path d=\"M17.41 7.96l-1.37-1.37c-.4-.4-.92-.59-1.43-.59-.52 0-1.04.2-1.43.59L10.3 9.45l-7.72 7.72c-.78.78-.78 2.05 0 2.83L4 21.41c.39.39.9.59 1.41.59.51 0 1.02-.2 1.41-.59l7.78-7.78 2.81-2.81c.8-.78.8-2.07 0-2.86zM5.41 20L4 18.59l7.72-7.72 1.47 1.35L5.41 20z\"/>\n",
              "  </svg>\n",
              "      </button>\n",
              "      \n",
              "  <style>\n",
              "    .colab-df-container {\n",
              "      display:flex;\n",
              "      flex-wrap:wrap;\n",
              "      gap: 12px;\n",
              "    }\n",
              "\n",
              "    .colab-df-convert {\n",
              "      background-color: #E8F0FE;\n",
              "      border: none;\n",
              "      border-radius: 50%;\n",
              "      cursor: pointer;\n",
              "      display: none;\n",
              "      fill: #1967D2;\n",
              "      height: 32px;\n",
              "      padding: 0 0 0 0;\n",
              "      width: 32px;\n",
              "    }\n",
              "\n",
              "    .colab-df-convert:hover {\n",
              "      background-color: #E2EBFA;\n",
              "      box-shadow: 0px 1px 2px rgba(60, 64, 67, 0.3), 0px 1px 3px 1px rgba(60, 64, 67, 0.15);\n",
              "      fill: #174EA6;\n",
              "    }\n",
              "\n",
              "    [theme=dark] .colab-df-convert {\n",
              "      background-color: #3B4455;\n",
              "      fill: #D2E3FC;\n",
              "    }\n",
              "\n",
              "    [theme=dark] .colab-df-convert:hover {\n",
              "      background-color: #434B5C;\n",
              "      box-shadow: 0px 1px 3px 1px rgba(0, 0, 0, 0.15);\n",
              "      filter: drop-shadow(0px 1px 2px rgba(0, 0, 0, 0.3));\n",
              "      fill: #FFFFFF;\n",
              "    }\n",
              "  </style>\n",
              "\n",
              "      <script>\n",
              "        const buttonEl =\n",
              "          document.querySelector('#df-fd6c6c08-1289-4218-a44c-ef9b66eaba1e button.colab-df-convert');\n",
              "        buttonEl.style.display =\n",
              "          google.colab.kernel.accessAllowed ? 'block' : 'none';\n",
              "\n",
              "        async function convertToInteractive(key) {\n",
              "          const element = document.querySelector('#df-fd6c6c08-1289-4218-a44c-ef9b66eaba1e');\n",
              "          const dataTable =\n",
              "            await google.colab.kernel.invokeFunction('convertToInteractive',\n",
              "                                                     [key], {});\n",
              "          if (!dataTable) return;\n",
              "\n",
              "          const docLinkHtml = 'Like what you see? Visit the ' +\n",
              "            '<a target=\"_blank\" href=https://colab.research.google.com/notebooks/data_table.ipynb>data table notebook</a>'\n",
              "            + ' to learn more about interactive tables.';\n",
              "          element.innerHTML = '';\n",
              "          dataTable['output_type'] = 'display_data';\n",
              "          await google.colab.output.renderOutput(dataTable, element);\n",
              "          const docLink = document.createElement('div');\n",
              "          docLink.innerHTML = docLinkHtml;\n",
              "          element.appendChild(docLink);\n",
              "        }\n",
              "      </script>\n",
              "    </div>\n",
              "  </div>\n",
              "  "
            ]
          },
          "metadata": {},
          "execution_count": 26
        }
      ]
    },
    {
      "cell_type": "code",
      "source": [
        "# EstimatedSalary : Outliers handling\n",
        "X = df.drop(df.query(\"EstimatedSalary > 120000 and Purchased == 0\").index)# Age : Outliers handling\n",
        "X = df.drop(df.query(\"Age > 55 and Purchased == 0\").index)"
      ],
      "metadata": {
        "id": "jDDp1RCmwx-9"
      },
      "execution_count": 27,
      "outputs": []
    },
    {
      "cell_type": "code",
      "source": [
        "#data processing\n",
        "from sklearn import preprocessing  \n",
        "#labelencoding\n",
        "LE=preprocessing.LabelEncoder()\n",
        "#fitting it to our dataset\n",
        "df.Gender=LE.fit_transform(df.Gender)"
      ],
      "metadata": {
        "id": "QP7mmq2tRm4p"
      },
      "execution_count": 28,
      "outputs": []
    },
    {
      "cell_type": "code",
      "source": [
        "df.shape"
      ],
      "metadata": {
        "colab": {
          "base_uri": "https://localhost:8080/"
        },
        "id": "Wr5fxiPez27R",
        "outputId": "8ca45a92-d3e8-4995-c107-e26f2319d95b"
      },
      "execution_count": 29,
      "outputs": [
        {
          "output_type": "execute_result",
          "data": {
            "text/plain": [
              "(400, 5)"
            ]
          },
          "metadata": {},
          "execution_count": 29
        }
      ]
    },
    {
      "cell_type": "code",
      "source": [
        "import matplotlib.pyplot as plt\n",
        "plt.scatter(df.Age,df.EstimatedSalary)\n",
        "plt.show()"
      ],
      "metadata": {
        "colab": {
          "base_uri": "https://localhost:8080/",
          "height": 265
        },
        "id": "h664gKQ3z9KG",
        "outputId": "778c5578-f31f-4b25-bad4-c62e05f520b6"
      },
      "execution_count": 30,
      "outputs": [
        {
          "output_type": "display_data",
          "data": {
            "text/plain": [
              "<Figure size 432x288 with 1 Axes>"
            ],
            "image/png": "[encoded data removed]"
          },
          "metadata": {
            "needs_background": "light"
          }
        }
      ]
    },
    {
      "cell_type": "code",
      "source": [
        "import seaborn as sns\n",
        "def get_heatmap(df):\n",
        "  plt.figure(figsize=(6,4))\n",
        "  sns.heatmap(df.isnull(),yticklabels=False,cbar=False,cmap='viridis')\n",
        "  plt.tight_layout()\n",
        "  return plt.show()\n",
        "\n",
        "get_heatmap(df)"
      ],
      "metadata": {
        "colab": {
          "base_uri": "https://localhost:8080/",
          "height": 297
        },
        "id": "enYuz-YS0UC0",
        "outputId": "0600f5a5-1e2a-4237-9420-801aaf18591d"
      },
      "execution_count": 31,
      "outputs": [
        {
          "output_type": "display_data",
          "data": {
            "text/plain": [
              "<Figure size 432x288 with 1 Axes>"
            ],
            "image/png": "[encoded data removed]"
          },
          "metadata": {
            "needs_background": "light"
          }
        }
      ]
    },
    {
      "cell_type": "code",
      "source": [
        "#Understanding the Distribution with Seaborn\n",
        "import seaborn as sns\n",
        "with sns.plotting_context(\"notebook\",font_scale=1):\n",
        "  g = sns.pairplot(df[['Age','EstimatedSalary','Purchased']],hue='Purchased',palette='tab20',size=3)\n",
        "g.set(xticklabels=[])"
      ],
      "metadata": {
        "colab": {
          "base_uri": "https://localhost:8080/",
          "height": 504
        },
        "id": "uI85AY4CUxMs",
        "outputId": "8de293e2-9f3a-49de-9348-cf31957d64db"
      },
      "execution_count": 32,
      "outputs": [
        {
          "output_type": "stream",
          "name": "stderr",
          "text": [
            "/usr/local/lib/python3.7/dist-packages/seaborn/axisgrid.py:2076: UserWarning: The `size` parameter has been renamed to `height`; please update your code.\n",
            "  warnings.warn(msg, UserWarning)\n"
          ]
        },
        {
          "output_type": "execute_result",
          "data": {
            "text/plain": [
              "<seaborn.axisgrid.PairGrid at 0x7f3635317f50>"
            ]
          },
          "metadata": {},
          "execution_count": 32
        },
        {
          "output_type": "display_data",
          "data": {
            "text/plain": [
              "<Figure size 503.05x432 with 6 Axes>"
            ],
            "image/png": "[encoded data removed]"
          },
          "metadata": {
            "needs_background": "light"
          }
        }
      ]
    },
    {
      "cell_type": "code",
      "source": [
        "from matplotlib.axis import YTick\n",
        "#method 2 to load the data in the form of arrays -by library numpy\n",
        "import numpy as np\n",
        "X=np.array(df[['EstimatedSalary','Age']])\n",
        "Y=np.array(df[['Purchased']])"
      ],
      "metadata": {
        "id": "4WK50S_QU-5o"
      },
      "execution_count": 33,
      "outputs": []
    },
    {
      "cell_type": "code",
      "source": [
        "from sklearn.preprocessing import StandardScaler\n",
        "sc = StandardScaler()\n",
        "X = sc.fit_transform(X)"
      ],
      "metadata": {
        "id": "mSuwv2voelb3"
      },
      "execution_count": 34,
      "outputs": []
    },
    {
      "cell_type": "code",
      "source": [
        "from sklearn.model_selection import train_test_split\n",
        "X_train,X_test,Y_train,Y_test = train_test_split(X,Y,test_size=0.2,random_state=0)"
      ],
      "metadata": {
        "id": "vHGZ0u4zdTBv"
      },
      "execution_count": 35,
      "outputs": []
    },
    {
      "cell_type": "code",
      "source": [
        "X_train"
      ],
      "metadata": {
        "colab": {
          "base_uri": "https://localhost:8080/"
        },
        "id": "0UsIGwWOVJbK",
        "outputId": "7aca27a1-43a9-42b6-db05-f8d906926997"
      },
      "execution_count": 36,
      "outputs": [
        {
          "output_type": "execute_result",
          "data": {
            "text/plain": [
              "array([[ 2.18,  1.94],\n",
              "       [ 0.39,  2.04],\n",
              "       [-0.43, -1.3 ],\n",
              "       [-1.02, -1.11],\n",
              "       [-0.93,  1.94],\n",
              "       [ 0.3 ,  0.42],\n",
              "       [ 0.15,  0.22],\n",
              "       [ 1.77,  2.04],\n",
              "       [-0.84,  0.8 ],\n",
              "       [-0.29,  0.32],\n",
              "       [-0.17,  0.42],\n",
              "       [ 2.24, -0.06],\n",
              "       [-0.64, -1.4 ],\n",
              "       [-1.08, -1.21],\n",
              "       [ 0.42, -1.3 ],\n",
              "       [ 0.77, -1.02],\n",
              "       [-0.2 , -1.4 ],\n",
              "       [-1.08,  0.99],\n",
              "       [ 0.59,  0.99],\n",
              "       [ 1.01,  0.42],\n",
              "       [-0.9 ,  0.61],\n",
              "       [ 1.48, -0.54],\n",
              "       [-0.58,  0.03],\n",
              "       [ 1.92, -0.54],\n",
              "       [-1.43,  1.37],\n",
              "       [ 1.01,  1.47],\n",
              "       [-0.81,  0.13],\n",
              "       [-0.26,  0.03],\n",
              "       [-0.58, -0.16],\n",
              "       [-0.2 , -0.16],\n",
              "       [-1.31, -0.25],\n",
              "       [-0.58, -0.25],\n",
              "       [ 0.1 ,  0.42],\n",
              "       [-0.61,  0.89],\n",
              "       [-1.2 ,  2.04],\n",
              "       [-0.14,  1.08],\n",
              "       [ 1.8 ,  0.7 ],\n",
              "       [ 0.57, -0.64],\n",
              "       [ 0.36,  0.8 ],\n",
              "       [-0.55,  0.89],\n",
              "       [-1.61, -1.11],\n",
              "       [ 0.95,  2.13],\n",
              "       [ 1.24,  0.03],\n",
              "       [ 1.09,  0.22],\n",
              "       [-0.49,  0.42],\n",
              "       [-0.32, -0.25],\n",
              "       [-0.84,  0.99],\n",
              "       [ 1.89,  0.99],\n",
              "       [ 1.27,  0.03],\n",
              "       [ 2.3 , -0.83],\n",
              "       [-1.61, -1.11],\n",
              "       [-0.81,  2.13],\n",
              "       [-1.49, -1.3 ],\n",
              "       [ 2.33,  0.42],\n",
              "       [ 0.77,  0.8 ],\n",
              "       [-0.32, -0.92],\n",
              "       [ 0.77,  0.13],\n",
              "       [ 0.57, -0.92],\n",
              "       [ 0.07,  0.32],\n",
              "       [-1.28,  0.7 ],\n",
              "       [-0.02, -0.44],\n",
              "       [ 0.36, -1.69],\n",
              "       [ 0.13, -0.64],\n",
              "       [ 0.3 ,  0.42],\n",
              "       [ 0.07, -0.25],\n",
              "       [ 2.33, -0.44],\n",
              "       [ 0.04,  0.22],\n",
              "       [ 2.24,  1.27],\n",
              "       [ 0.27,  0.8 ],\n",
              "       [ 0.15, -0.25],\n",
              "       [-0.55,  0.03],\n",
              "       [ 0.15, -0.16],\n",
              "       [ 0.24, -0.06],\n",
              "       [-0.26,  0.03],\n",
              "       [ 1.12,  2.13],\n",
              "       [ 0.36, -1.69],\n",
              "       [ 0.13,  1.85],\n",
              "       [-0.14,  0.42],\n",
              "       [ 0.3 , -1.11],\n",
              "       [ 1.39,  0.8 ],\n",
              "       [-0.26, -0.25],\n",
              "       [-0.05, -1.59],\n",
              "       [-0.76, -0.92],\n",
              "       [ 0.51,  0.32],\n",
              "       [-1.08, -0.06],\n",
              "       [ 0.59, -1.02],\n",
              "       [-0.81,  0.13],\n",
              "       [ 1.56, -0.92],\n",
              "       [ 1.42, -0.64],\n",
              "       [ 0.51, -1.21],\n",
              "       [ 0.04, -0.25],\n",
              "       [ 0.01, -0.06],\n",
              "       [-0.9 , -0.25],\n",
              "       [-1.37,  0.89],\n",
              "       [ 2.27, -0.25],\n",
              "       [ 2.  ,  0.99],\n",
              "       [ 0.48, -1.11],\n",
              "       [ 0.27, -1.21],\n",
              "       [ 2.  ,  1.37],\n",
              "       [-1.37,  1.27],\n",
              "       [-0.29, -0.25],\n",
              "       [ 1.27, -0.44],\n",
              "       [ 1.09, -0.73],\n",
              "       [-1.08,  0.99],\n",
              "       [ 0.3 ,  0.32],\n",
              "       [ 0.77,  0.99],\n",
              "       [-1.52, -0.64],\n",
              "       [ 0.04, -0.64],\n",
              "       [ 1.74,  0.51],\n",
              "       [ 0.18,  2.04],\n",
              "       [-0.76, -1.88],\n",
              "       [ 1.42, -0.16],\n",
              "       [ 0.59,  0.42],\n",
              "       [-1.17,  0.89],\n",
              "       [-0.79, -1.11],\n",
              "       [ 0.24,  0.22],\n",
              "       [-0.32,  0.8 ],\n",
              "       [-0.81,  2.04],\n",
              "       [ 0.13,  0.8 ],\n",
              "       [ 0.62, -0.25],\n",
              "       [-0.32, -0.92],\n",
              "       [-0.37,  0.22],\n",
              "       [ 2.15,  2.04],\n",
              "       [-1.28,  1.85],\n",
              "       [-0.93,  1.37],\n",
              "       [ 1.27,  0.89],\n",
              "       [ 2.15,  1.47],\n",
              "       [-1.26, -0.25],\n",
              "       [ 0.92,  1.94],\n",
              "       [-0.73,  0.7 ],\n",
              "       [ 0.36, -1.4 ],\n",
              "       [-1.37,  0.8 ],\n",
              "       [-0.14,  0.42],\n",
              "       [ 0.42, -0.92],\n",
              "       [-0.32,  0.03],\n",
              "       [ 0.42, -1.11],\n",
              "       [-1.23, -0.83],\n",
              "       [ 0.04, -0.06],\n",
              "       [-0.43, -1.5 ],\n",
              "       [-1.02,  0.99],\n",
              "       [-1.23,  1.08],\n",
              "       [-0.14,  0.03],\n",
              "       [-1.55, -1.02],\n",
              "       [-1.23,  0.8 ],\n",
              "       [ 2.09,  0.99],\n",
              "       [-1.55, -1.11],\n",
              "       [ 0.8 , -0.25],\n",
              "       [-0.32,  0.13],\n",
              "       [-1.26, -1.3 ],\n",
              "       [-1.52, -0.54],\n",
              "       [ 0.54,  0.8 ],\n",
              "       [-0.34, -0.25],\n",
              "       [-0.29,  1.75],\n",
              "       [-1.05,  0.89],\n",
              "       [ 0.07,  0.22],\n",
              "       [ 0.89, -0.54],\n",
              "       [-1.43, -1.78],\n",
              "       [ 0.59, -1.21],\n",
              "       [ 0.54, -0.25],\n",
              "       [-1.11, -0.92],\n",
              "       [-1.46,  1.18],\n",
              "       [-0.32,  0.22],\n",
              "       [-0.76,  1.18],\n",
              "       [ 0.07, -0.25],\n",
              "       [ 2.12,  0.22],\n",
              "       [-1.11,  0.8 ],\n",
              "       [ 0.04,  0.13],\n",
              "       [ 0.13, -1.69],\n",
              "       [ 0.15, -0.83],\n",
              "       [ 0.18, -0.64],\n",
              "       [-1.31,  0.89],\n",
              "       [-0.26,  0.22],\n",
              "       [ 1.24, -0.35],\n",
              "       [ 0.3 ,  0.03],\n",
              "       [ 0.15,  0.42],\n",
              "       [-0.67,  0.89],\n",
              "       [ 0.15,  0.13],\n",
              "       [-1.31, -1.78],\n",
              "       [ 0.3 , -0.06],\n",
              "       [-0.29, -0.16],\n",
              "       [-0.52,  0.32],\n",
              "       [ 1.62, -0.16],\n",
              "       [-1.2 ,  0.99],\n",
              "       [ 1.65, -0.16],\n",
              "       [ 1.89,  1.27],\n",
              "       [-0.37, -1.02],\n",
              "       [ 0.04,  0.03],\n",
              "       [-0.26,  0.13],\n",
              "       [-1.26, -1.5 ],\n",
              "       [-0.29, -0.44],\n",
              "       [ 0.13,  0.99],\n",
              "       [-1.37,  1.94],\n",
              "       [ 0.07,  1.47],\n",
              "       [ 1.39, -0.54],\n",
              "       [ 0.01,  1.56],\n",
              "       [ 0.3 , -0.73],\n",
              "       [ 0.74,  1.94],\n",
              "       [-0.52, -1.11],\n",
              "       [ 0.27,  0.7 ],\n",
              "       [-0.43, -1.3 ],\n",
              "       [ 0.15,  0.22],\n",
              "       [-1.23, -0.44],\n",
              "       [ 2.03,  0.61],\n",
              "       [-1.52, -1.5 ],\n",
              "       [-0.55, -0.44],\n",
              "       [ 1.86,  0.51],\n",
              "       [-1.11, -1.3 ],\n",
              "       [-1.4 ,  0.8 ],\n",
              "       [-0.43, -0.25],\n",
              "       [ 1.01,  1.56],\n",
              "       [ 1.45,  0.99],\n",
              "       [-0.49, -0.25],\n",
              "       [ 2.18, -0.06],\n",
              "       [-0.11, -1.4 ],\n",
              "       [ 1.98, -0.06],\n",
              "       [-0.34, -0.64],\n",
              "       [-0.84, -0.44],\n",
              "       [-1.4 ,  0.7 ],\n",
              "       [-1.61, -0.73],\n",
              "       [-1.49, -1.78],\n",
              "       [ 0.13,  1.08],\n",
              "       [ 1.53,  0.13],\n",
              "       [ 0.1 , -0.25],\n",
              "       [ 0.04,  0.13],\n",
              "       [-1.37, -1.3 ],\n",
              "       [ 0.07,  0.32],\n",
              "       [ 0.39, -0.83],\n",
              "       [-1.28,  1.56],\n",
              "       [-0.76, -0.25],\n",
              "       [ 0.15, -0.06],\n",
              "       [-0.67, -0.83],\n",
              "       [-0.05, -0.64],\n",
              "       [-0.46,  0.42],\n",
              "       [ 1.92, -0.73],\n",
              "       [ 1.3 ,  1.37],\n",
              "       [-0.99,  1.18],\n",
              "       [ 1.86,  1.75],\n",
              "       [-0.26, -0.83],\n",
              "       [ 0.57, -0.73],\n",
              "       [-1.58, -1.11],\n",
              "       [-1.14, -0.44],\n",
              "       [ 0.07,  0.32],\n",
              "       [-1.08, -0.16],\n",
              "       [ 1.62,  1.66],\n",
              "       [ 1.8 ,  0.99],\n",
              "       [ 0.04,  0.32],\n",
              "       [-0.23, -0.73],\n",
              "       [ 0.07, -0.06],\n",
              "       [-0.2 ,  0.32],\n",
              "       [-0.67,  1.94],\n",
              "       [ 1.36, -0.73],\n",
              "       [-0.61, -1.69],\n",
              "       [ 0.13, -0.06],\n",
              "       [-0.32,  0.32],\n",
              "       [ 0.57,  1.08],\n",
              "       [ 0.27, -0.92],\n",
              "       [ 0.36,  1.47],\n",
              "       [-0.37,  0.22],\n",
              "       [-1.05,  2.13],\n",
              "       [ 1.12, -0.25],\n",
              "       [ 0.07, -1.59],\n",
              "       [ 0.04,  0.03],\n",
              "       [ 1.06,  0.13],\n",
              "       [-0.37, -0.06],\n",
              "       [ 0.07, -1.11],\n",
              "       [-1.37, -0.25],\n",
              "       [ 1.12,  1.56],\n",
              "       [-1.55, -0.73],\n",
              "       [ 1.89,  0.13],\n",
              "       [-0.79, -0.83],\n",
              "       [-0.79, -0.44],\n",
              "       [-0.93, -0.25],\n",
              "       [-0.73,  0.32],\n",
              "       [ 0.07,  0.32],\n",
              "       [ 1.89,  0.13],\n",
              "       [ 1.98, -1.02],\n",
              "       [-1.58, -1.59],\n",
              "       [-1.11, -1.11],\n",
              "       [-0.11, -0.64],\n",
              "       [ 0.1 ,  0.13],\n",
              "       [ 0.27,  0.32],\n",
              "       [-0.58,  0.89],\n",
              "       [-1.17,  0.32],\n",
              "       [ 0.68, -0.06],\n",
              "       [-0.7 ,  2.13],\n",
              "       [-1.4 , -1.21],\n",
              "       [-0.96, -0.92],\n",
              "       [-0.43,  0.03],\n",
              "       [-0.46, -0.16],\n",
              "       [-0.99, -1.69],\n",
              "       [ 1.01,  1.75],\n",
              "       [-0.37,  0.22],\n",
              "       [ 1.12,  0.42],\n",
              "       [-1.37, -1.69],\n",
              "       [-0.14,  0.22],\n",
              "       [-1.46,  0.89],\n",
              "       [ 0.48, -1.88],\n",
              "       [ 0.27, -0.25],\n",
              "       [-1.08,  1.85],\n",
              "       [ 0.07, -0.35],\n",
              "       [-0.9 ,  1.08],\n",
              "       [-1.14, -1.02],\n",
              "       [ 0.01, -1.78],\n",
              "       [ 0.27,  0.13],\n",
              "       [ 0.33, -1.11],\n",
              "       [ 0.3 , -1.21],\n",
              "       [ 0.45, -0.92],\n",
              "       [-0.9 ,  1.66],\n",
              "       [ 0.54,  1.18],\n",
              "       [ 0.54,  1.08],\n",
              "       [ 2.36,  1.37],\n",
              "       [-0.14, -0.25],\n",
              "       [-0.46,  0.42],\n",
              "       [-0.79, -0.35],\n",
              "       [-0.52, -0.06],\n",
              "       [-1.17,  0.99],\n",
              "       [-0.79, -0.83],\n",
              "       [-0.52, -0.16],\n",
              "       [-0.46, -1.02],\n",
              "       [ 1.42, -1.11]])"
            ]
          },
          "metadata": {},
          "execution_count": 36
        }
      ]
    },
    {
      "cell_type": "code",
      "source": [
        "from sklearn.linear_model import LogisticRegression\n",
        "model=LogisticRegression()"
      ],
      "metadata": {
        "id": "CZFYyK0e9al_"
      },
      "execution_count": 37,
      "outputs": []
    },
    {
      "cell_type": "code",
      "source": [
        "model.fit(X_train,Y_train)"
      ],
      "metadata": {
        "colab": {
          "base_uri": "https://localhost:8080/"
        },
        "id": "vKxH-VZn9hl6",
        "outputId": "95401f39-0b93-4080-90cb-0a225a6f3f2c"
      },
      "execution_count": 38,
      "outputs": [
        {
          "output_type": "stream",
          "name": "stderr",
          "text": [
            "/usr/local/lib/python3.7/dist-packages/sklearn/utils/validation.py:993: DataConversionWarning: A column-vector y was passed when a 1d array was expected. Please change the shape of y to (n_samples, ), for example using ravel().\n",
            "  y = column_or_1d(y, warn=True)\n"
          ]
        },
        {
          "output_type": "execute_result",
          "data": {
            "text/plain": [
              "LogisticRegression()"
            ]
          },
          "metadata": {},
          "execution_count": 38
        }
      ]
    },
    {
      "cell_type": "code",
      "source": [
        "y_pred=model.predict(X_test)\n",
        "np.set_printoptions(precision=2)\n",
        "print(np.concatenate((y_pred.reshape(len(y_pred),1),Y_test.reshape(len(Y_test),1)),1))"
      ],
      "metadata": {
        "id": "QVVv_TjU9n-H"
      },
      "execution_count": null,
      "outputs": []
    },
    {
      "cell_type": "code",
      "source": [
        "print(\"Predicted value for training data:\",model.score(X_train,Y_train)*100)"
      ],
      "metadata": {
        "colab": {
          "base_uri": "https://localhost:8080/"
        },
        "id": "7ALii9Sg2D6y",
        "outputId": "ffd03c3b-3e39-45e3-dbc4-c9b71b31bc5c"
      },
      "execution_count": 40,
      "outputs": [
        {
          "output_type": "stream",
          "name": "stdout",
          "text": [
            "Predicted value for training data: 82.1875\n"
          ]
        }
      ]
    },
    {
      "cell_type": "code",
      "source": [
        "\n",
        "print(\"Predicted value for testing data:\",model.score(X_test,Y_test)*100)"
      ],
      "metadata": {
        "colab": {
          "base_uri": "https://localhost:8080/"
        },
        "id": "pjbaU1ZH2HO4",
        "outputId": "f4f6cd31-4e86-4257-8f5e-db34dcd0837d"
      },
      "execution_count": 41,
      "outputs": [
        {
          "output_type": "stream",
          "name": "stdout",
          "text": [
            "Predicted value for testing data: 92.5\n"
          ]
        }
      ]
    },
    {
      "cell_type": "code",
      "source": [
        "accuracy=model.score(X,Y)*100\n",
        "print(accuracy)"
      ],
      "metadata": {
        "colab": {
          "base_uri": "https://localhost:8080/"
        },
        "id": "3r0kM3qj2U1R",
        "outputId": "a00acee2-3d10-463c-ab10-833a42e8f238"
      },
      "execution_count": 42,
      "outputs": [
        {
          "output_type": "stream",
          "name": "stdout",
          "text": [
            "84.25\n"
          ]
        }
      ]
    },
    {
      "cell_type": "code",
      "source": [
        "from sklearn.metrics import confusion_matrix, accuracy_score\n",
        "cm = confusion_matrix(Y_test, y_pred) \n",
        "print(cm) \n",
        "accuracy_score(Y_test, y_pred)"
      ],
      "metadata": {
        "id": "simIDZsZ2Xtj",
        "colab": {
          "base_uri": "https://localhost:8080/"
        },
        "outputId": "2cf71a9a-2bf3-48b0-ffb4-336b213682c5"
      },
      "execution_count": 43,
      "outputs": [
        {
          "output_type": "stream",
          "name": "stdout",
          "text": [
            "[[57  1]\n",
            " [ 5 17]]\n"
          ]
        },
        {
          "output_type": "execute_result",
          "data": {
            "text/plain": [
              "0.925"
            ]
          },
          "metadata": {},
          "execution_count": 43
        }
      ]
    },
    {
      "cell_type": "code",
      "source": [
        "from sklearn.preprocessing import StandardScaler\n",
        "sc = StandardScaler()\n",
        "from sklearn.linear_model import LogisticRegression\n",
        "model=LogisticRegression()\n",
        "model.fit(X_train,Y_train)\n",
        "y_pred=model.predict(X_test)\n",
        "from matplotlib.colors import ListedColormap\n",
        "X_set, Y_set = sc.inverse_transform(X_train), Y_train \n",
        "X1, X2 = np.meshgrid(np.arange(start = X_set[:, 0].min() - 10, stop = X_set[:, 0].max() + 10, step = 0.25), np.arange(start = X_set[:, 1].min() - 1000, stop = X_set[:, 1].max() + 1000, step = 0.25)) \n",
        "plt.contourf(X1, X2, model.predict(sc.transform(np.array([X1.ravel(), X2.ravel()]).T)).reshape(X1.shape), alpha = 0.75, cmap = ListedColormap(('red', 'green'))) \n",
        "plt.xlim(X1.min(), X1.max()) \n",
        "plt.ylim(X2.min(), X2.max())\n",
        "for i, j in enumerate(np.unique(y_set)): \n",
        "  plt.scatter(X_set[y_set == j, 0], X_set[y_set == j, 1], c = ListedColormap(('red', 'green'))(i), label = j) \n",
        "  plt.title('Logistic Regression (Training set)')\n",
        "  plt.xlabel('Age') \n",
        "  plt.ylabel('Estimated Salary') \n",
        "  plt.legend() \n",
        "  plt.show()"
      ],
      "metadata": {
        "colab": {
          "base_uri": "https://localhost:8080/",
          "height": 470
        },
        "id": "1T9c0IBXyTJv",
        "outputId": "f3921679-6bc9-48c4-fec0-f9da2f2698c9"
      },
      "execution_count": 48,
      "outputs": [
        {
          "output_type": "stream",
          "name": "stderr",
          "text": [
            "/usr/local/lib/python3.7/dist-packages/sklearn/utils/validation.py:993: DataConversionWarning: A column-vector y was passed when a 1d array was expected. Please change the shape of y to (n_samples, ), for example using ravel().\n",
            "  y = column_or_1d(y, warn=True)\n"
          ]
        },
        {
          "output_type": "error",
          "ename": "NotFittedError",
          "evalue": "ignored",
          "traceback": [
            "\u001b[0;31m---------------------------------------------------------------------------\u001b[0m",
            "\u001b[0;31mNotFittedError\u001b[0m                            Traceback (most recent call last)",
            "\u001b[0;32m<ipython-input-48-1b2ef1091738>\u001b[0m in \u001b[0;36m<module>\u001b[0;34m()\u001b[0m\n\u001b[1;32m      7\u001b[0m \u001b[0;31m#print(np.concatenate((y_pred.reshape(len(y_pred),1),Y_test.reshape(len(Y_test),1)),1))\u001b[0m\u001b[0;34m\u001b[0m\u001b[0;34m\u001b[0m\u001b[0;34m\u001b[0m\u001b[0m\n\u001b[1;32m      8\u001b[0m \u001b[0;32mfrom\u001b[0m \u001b[0mmatplotlib\u001b[0m\u001b[0;34m.\u001b[0m\u001b[0mcolors\u001b[0m \u001b[0;32mimport\u001b[0m \u001b[0mListedColormap\u001b[0m\u001b[0;34m\u001b[0m\u001b[0;34m\u001b[0m\u001b[0m\n\u001b[0;32m----> 9\u001b[0;31m \u001b[0mX_set\u001b[0m\u001b[0;34m,\u001b[0m \u001b[0mY_set\u001b[0m \u001b[0;34m=\u001b[0m \u001b[0msc\u001b[0m\u001b[0;34m.\u001b[0m\u001b[0minverse_transform\u001b[0m\u001b[0;34m(\u001b[0m\u001b[0mX_train\u001b[0m\u001b[0;34m)\u001b[0m\u001b[0;34m,\u001b[0m \u001b[0mY_train\u001b[0m\u001b[0;34m\u001b[0m\u001b[0;34m\u001b[0m\u001b[0m\n\u001b[0m\u001b[1;32m     10\u001b[0m \u001b[0mX1\u001b[0m\u001b[0;34m,\u001b[0m \u001b[0mX2\u001b[0m \u001b[0;34m=\u001b[0m \u001b[0mnp\u001b[0m\u001b[0;34m.\u001b[0m\u001b[0mmeshgrid\u001b[0m\u001b[0;34m(\u001b[0m\u001b[0mnp\u001b[0m\u001b[0;34m.\u001b[0m\u001b[0marange\u001b[0m\u001b[0;34m(\u001b[0m\u001b[0mstart\u001b[0m \u001b[0;34m=\u001b[0m \u001b[0mX_set\u001b[0m\u001b[0;34m[\u001b[0m\u001b[0;34m:\u001b[0m\u001b[0;34m,\u001b[0m \u001b[0;36m0\u001b[0m\u001b[0;34m]\u001b[0m\u001b[0;34m.\u001b[0m\u001b[0mmin\u001b[0m\u001b[0;34m(\u001b[0m\u001b[0;34m)\u001b[0m \u001b[0;34m-\u001b[0m \u001b[0;36m10\u001b[0m\u001b[0;34m,\u001b[0m \u001b[0mstop\u001b[0m \u001b[0;34m=\u001b[0m \u001b[0mX_set\u001b[0m\u001b[0;34m[\u001b[0m\u001b[0;34m:\u001b[0m\u001b[0;34m,\u001b[0m \u001b[0;36m0\u001b[0m\u001b[0;34m]\u001b[0m\u001b[0;34m.\u001b[0m\u001b[0mmax\u001b[0m\u001b[0;34m(\u001b[0m\u001b[0;34m)\u001b[0m \u001b[0;34m+\u001b[0m \u001b[0;36m10\u001b[0m\u001b[0;34m,\u001b[0m \u001b[0mstep\u001b[0m \u001b[0;34m=\u001b[0m \u001b[0;36m0.25\u001b[0m\u001b[0;34m)\u001b[0m\u001b[0;34m,\u001b[0m \u001b[0mnp\u001b[0m\u001b[0;34m.\u001b[0m\u001b[0marange\u001b[0m\u001b[0;34m(\u001b[0m\u001b[0mstart\u001b[0m \u001b[0;34m=\u001b[0m \u001b[0mX_set\u001b[0m\u001b[0;34m[\u001b[0m\u001b[0;34m:\u001b[0m\u001b[0;34m,\u001b[0m \u001b[0;36m1\u001b[0m\u001b[0;34m]\u001b[0m\u001b[0;34m.\u001b[0m\u001b[0mmin\u001b[0m\u001b[0;34m(\u001b[0m\u001b[0;34m)\u001b[0m \u001b[0;34m-\u001b[0m \u001b[0;36m1000\u001b[0m\u001b[0;34m,\u001b[0m \u001b[0mstop\u001b[0m \u001b[0;34m=\u001b[0m \u001b[0mX_set\u001b[0m\u001b[0;34m[\u001b[0m\u001b[0;34m:\u001b[0m\u001b[0;34m,\u001b[0m \u001b[0;36m1\u001b[0m\u001b[0;34m]\u001b[0m\u001b[0;34m.\u001b[0m\u001b[0mmax\u001b[0m\u001b[0;34m(\u001b[0m\u001b[0;34m)\u001b[0m \u001b[0;34m+\u001b[0m \u001b[0;36m1000\u001b[0m\u001b[0;34m,\u001b[0m \u001b[0mstep\u001b[0m \u001b[0;34m=\u001b[0m \u001b[0;36m0.25\u001b[0m\u001b[0;34m)\u001b[0m\u001b[0;34m)\u001b[0m\u001b[0;34m\u001b[0m\u001b[0;34m\u001b[0m\u001b[0m\n\u001b[1;32m     11\u001b[0m \u001b[0mplt\u001b[0m\u001b[0;34m.\u001b[0m\u001b[0mcontourf\u001b[0m\u001b[0;34m(\u001b[0m\u001b[0mX1\u001b[0m\u001b[0;34m,\u001b[0m \u001b[0mX2\u001b[0m\u001b[0;34m,\u001b[0m \u001b[0mmodel\u001b[0m\u001b[0;34m.\u001b[0m\u001b[0mpredict\u001b[0m\u001b[0;34m(\u001b[0m\u001b[0msc\u001b[0m\u001b[0;34m.\u001b[0m\u001b[0mtransform\u001b[0m\u001b[0;34m(\u001b[0m\u001b[0mnp\u001b[0m\u001b[0;34m.\u001b[0m\u001b[0marray\u001b[0m\u001b[0;34m(\u001b[0m\u001b[0;34m[\u001b[0m\u001b[0mX1\u001b[0m\u001b[0;34m.\u001b[0m\u001b[0mravel\u001b[0m\u001b[0;34m(\u001b[0m\u001b[0;34m)\u001b[0m\u001b[0;34m,\u001b[0m \u001b[0mX2\u001b[0m\u001b[0;34m.\u001b[0m\u001b[0mravel\u001b[0m\u001b[0;34m(\u001b[0m\u001b[0;34m)\u001b[0m\u001b[0;34m]\u001b[0m\u001b[0;34m)\u001b[0m\u001b[0;34m.\u001b[0m\u001b[0mT\u001b[0m\u001b[0;34m)\u001b[0m\u001b[0;34m)\u001b[0m\u001b[0;34m.\u001b[0m\u001b[0mreshape\u001b[0m\u001b[0;34m(\u001b[0m\u001b[0mX1\u001b[0m\u001b[0;34m.\u001b[0m\u001b[0mshape\u001b[0m\u001b[0;34m)\u001b[0m\u001b[0;34m,\u001b[0m \u001b[0malpha\u001b[0m \u001b[0;34m=\u001b[0m \u001b[0;36m0.75\u001b[0m\u001b[0;34m,\u001b[0m \u001b[0mcmap\u001b[0m \u001b[0;34m=\u001b[0m \u001b[0mListedColormap\u001b[0m\u001b[0;34m(\u001b[0m\u001b[0;34m(\u001b[0m\u001b[0;34m'red'\u001b[0m\u001b[0;34m,\u001b[0m \u001b[0;34m'green'\u001b[0m\u001b[0;34m)\u001b[0m\u001b[0;34m)\u001b[0m\u001b[0;34m)\u001b[0m\u001b[0;34m\u001b[0m\u001b[0;34m\u001b[0m\u001b[0m\n",
            "\u001b[0;32m/usr/local/lib/python3.7/dist-packages/sklearn/preprocessing/_data.py\u001b[0m in \u001b[0;36minverse_transform\u001b[0;34m(self, X, copy)\u001b[0m\n\u001b[1;32m   1011\u001b[0m             \u001b[0mTransformed\u001b[0m \u001b[0marray\u001b[0m\u001b[0;34m.\u001b[0m\u001b[0;34m\u001b[0m\u001b[0;34m\u001b[0m\u001b[0m\n\u001b[1;32m   1012\u001b[0m         \"\"\"\n\u001b[0;32m-> 1013\u001b[0;31m         \u001b[0mcheck_is_fitted\u001b[0m\u001b[0;34m(\u001b[0m\u001b[0mself\u001b[0m\u001b[0;34m)\u001b[0m\u001b[0;34m\u001b[0m\u001b[0;34m\u001b[0m\u001b[0m\n\u001b[0m\u001b[1;32m   1014\u001b[0m \u001b[0;34m\u001b[0m\u001b[0m\n\u001b[1;32m   1015\u001b[0m         \u001b[0mcopy\u001b[0m \u001b[0;34m=\u001b[0m \u001b[0mcopy\u001b[0m \u001b[0;32mif\u001b[0m \u001b[0mcopy\u001b[0m \u001b[0;32mis\u001b[0m \u001b[0;32mnot\u001b[0m \u001b[0;32mNone\u001b[0m \u001b[0;32melse\u001b[0m \u001b[0mself\u001b[0m\u001b[0;34m.\u001b[0m\u001b[0mcopy\u001b[0m\u001b[0;34m\u001b[0m\u001b[0;34m\u001b[0m\u001b[0m\n",
            "\u001b[0;32m/usr/local/lib/python3.7/dist-packages/sklearn/utils/validation.py\u001b[0m in \u001b[0;36mcheck_is_fitted\u001b[0;34m(estimator, attributes, msg, all_or_any)\u001b[0m\n\u001b[1;32m   1220\u001b[0m \u001b[0;34m\u001b[0m\u001b[0m\n\u001b[1;32m   1221\u001b[0m     \u001b[0;32mif\u001b[0m \u001b[0;32mnot\u001b[0m \u001b[0mfitted\u001b[0m\u001b[0;34m:\u001b[0m\u001b[0;34m\u001b[0m\u001b[0;34m\u001b[0m\u001b[0m\n\u001b[0;32m-> 1222\u001b[0;31m         \u001b[0;32mraise\u001b[0m \u001b[0mNotFittedError\u001b[0m\u001b[0;34m(\u001b[0m\u001b[0mmsg\u001b[0m \u001b[0;34m%\u001b[0m \u001b[0;34m{\u001b[0m\u001b[0;34m\"name\"\u001b[0m\u001b[0;34m:\u001b[0m \u001b[0mtype\u001b[0m\u001b[0;34m(\u001b[0m\u001b[0mestimator\u001b[0m\u001b[0;34m)\u001b[0m\u001b[0;34m.\u001b[0m\u001b[0m__name__\u001b[0m\u001b[0;34m}\u001b[0m\u001b[0;34m)\u001b[0m\u001b[0;34m\u001b[0m\u001b[0;34m\u001b[0m\u001b[0m\n\u001b[0m\u001b[1;32m   1223\u001b[0m \u001b[0;34m\u001b[0m\u001b[0m\n\u001b[1;32m   1224\u001b[0m \u001b[0;34m\u001b[0m\u001b[0m\n",
            "\u001b[0;31mNotFittedError\u001b[0m: This StandardScaler instance is not fitted yet. Call 'fit' with appropriate arguments before using this estimator."
          ]
        }
      ]
    },
    {
      "cell_type": "code",
      "source": [
        ""
      ],
      "metadata": {
        "id": "1YKJSK-XUkwL"
      },
      "execution_count": null,
      "outputs": []
    }
  ]
}