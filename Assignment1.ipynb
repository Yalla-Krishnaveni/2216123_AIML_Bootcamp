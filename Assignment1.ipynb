{
  "nbformat": 4,
  "nbformat_minor": 0,
  "metadata": {
    "colab": {
      "name": "Assignment1.ipynb",
      "provenance": [],
      "collapsed_sections": [],
      "authorship_tag": "ABX9TyP8Vt3wWbZ6c4oAVtGE8NPd",
      "include_colab_link": true
    },
    "kernelspec": {
      "name": "python3",
      "display_name": "Python 3"
    },
    "language_info": {
      "name": "python"
    }
  },
  "cells": [
    {
      "cell_type": "markdown",
      "metadata": {
        "id": "view-in-github",
        "colab_type": "text"
      },
      "source": [
        "<a href=\"https://colab.research.google.com/github/Yalla-Krishnaveni/2216123_AIML_Bootcamp/blob/main/Assignment1.ipynb\" target=\"_parent\"><img src=\"https://colab.research.google.com/assets/colab-badge.svg\" alt=\"Open In Colab\"/></a>"
      ]
    },
    {
      "cell_type": "markdown",
      "source": [
        "1. Implement the methods of String with examples."
      ],
      "metadata": {
        "id": "KvJfQbaBOyo9"
      }
    },
    {
      "cell_type": "code",
      "source": [
        "s='Krishnaveni yalla'\n",
        "print(s)\n",
        "print(len(s))#length\n",
        "print(s[5])#indexing\n",
        "print(s.upper())#upper case\n",
        "print(s.lower())#Lower case\n",
        "print(s.capitalize())#capitalize\n",
        "print(s.title())#title\n",
        "print(s.replace('K','A'))#split\n",
        "#JOIN the strings\n",
        "a=\"Hello\"\n",
        "b=\"World\"\n",
        "c=a+b\n",
        "print(c)\n",
        "#taking input\n",
        "s1=input('Enter your name:')\n",
        "print('My name is',s1)"
      ],
      "metadata": {
        "colab": {
          "base_uri": "https://localhost:8080/"
        },
        "id": "p1GN0fllww0x",
        "outputId": "1245d478-b390-4a0e-b6a3-fea829ecc140"
      },
      "execution_count": null,
      "outputs": [
        {
          "output_type": "stream",
          "name": "stdout",
          "text": [
            "Krishnaveni yalla\n",
            "17\n",
            "n\n",
            "KRISHNAVENI YALLA\n",
            "krishnaveni yalla\n",
            "Krishnaveni yalla\n",
            "Krishnaveni Yalla\n",
            "Arishnaveni yalla\n",
            "HelloWorld\n",
            "Enter your name:k\n",
            "My name is k\n"
          ]
        }
      ]
    },
    {
      "cell_type": "markdown",
      "source": [
        "2. Implement the methods of List with examples."
      ],
      "metadata": {
        "id": "KU9Gov-0OhLj"
      }
    },
    {
      "cell_type": "code",
      "source": [
        "s=[1,2,3,4,\"Krish\",\"Yalla\",\"Teju\"]\n",
        "print(s)\n",
        "print(s[5])#indexing\n",
        "print(s[1:3])#slicing\n",
        "s.insert(3,\"Jyoshna\")#inserting\n",
        "print(s)\n",
        "#Extend\n",
        "s1=[7,8,9,\"Hari\"]\n",
        "s.extend(s1)\n",
        "print(s)\n",
        "s.remove('Hari')#remove\n",
        "print(s)\n",
        "s.pop()#pop\n",
        "print(s)\n",
        "del s[0]#delete\n",
        "print(s)\n",
        "s.clear()\n",
        "print(s)\n",
        "#Nested tuple\n",
        "s=[1,2,[1,2,3],[1,2],3]\n",
        "print(s[2][1])"
      ],
      "metadata": {
        "id": "45ABRT6A0c06",
        "colab": {
          "base_uri": "https://localhost:8080/"
        },
        "outputId": "18646dd8-06da-4049-d104-e249f248f1a8"
      },
      "execution_count": null,
      "outputs": [
        {
          "output_type": "stream",
          "name": "stdout",
          "text": [
            "[1, 2, 3, 4, 'Krish', 'Yalla', 'Teju']\n",
            "Yalla\n",
            "[2, 3]\n",
            "[1, 2, 3, 'Jyoshna', 4, 'Krish', 'Yalla', 'Teju']\n",
            "[1, 2, 3, 'Jyoshna', 4, 'Krish', 'Yalla', 'Teju', 7, 8, 9, 'Hari']\n",
            "[1, 2, 3, 'Jyoshna', 4, 'Krish', 'Yalla', 'Teju', 7, 8, 9]\n",
            "[1, 2, 3, 'Jyoshna', 4, 'Krish', 'Yalla', 'Teju', 7, 8]\n",
            "[2, 3, 'Jyoshna', 4, 'Krish', 'Yalla', 'Teju', 7, 8]\n",
            "[]\n",
            "2\n"
          ]
        }
      ]
    },
    {
      "cell_type": "markdown",
      "source": [
        "3. Implement the methods of Tuple with examples."
      ],
      "metadata": {
        "id": "h5KD6puTRAVL"
      }
    },
    {
      "cell_type": "code",
      "execution_count": null,
      "metadata": {
        "colab": {
          "base_uri": "https://localhost:8080/"
        },
        "id": "u0QmBczqRHSB",
        "outputId": "87a94d24-41a7-4356-a632-e5c5c9be1cc3"
      },
      "outputs": [
        {
          "output_type": "stream",
          "name": "stdout",
          "text": [
            "(1, 2, 3, 4)\n",
            "4\n",
            "(2, 3)\n",
            "1\n",
            "4\n",
            "4\n",
            "2\n"
          ]
        }
      ],
      "source": [
        "s=(1,2,3,4)\n",
        "s1=(\"hi\",\"hello\",\"happy\")\n",
        "print(s)\n",
        "print(s[3])#indexing\n",
        "print(s[1:3])#slicing\n",
        "print(min(s))#minimum element\n",
        "print(max(s))#max element\n",
        "print(len(s))#length\n",
        "#Nested tuple\n",
        "s=(1,2,[1,2,3],[1,2],3)\n",
        "print(s[2][1])"
      ]
    },
    {
      "cell_type": "markdown",
      "source": [
        "4. Implement the methods of Dictionary with examples"
      ],
      "metadata": {
        "id": "_kDWYuzbT4_n"
      }
    },
    {
      "cell_type": "code",
      "source": [
        "d={'name':'krish','age':19,'dob': '04-05-2003'}\n",
        "print(d.keys())#displaying keys\n",
        "print(d['name'])#displaying value to corresponding key\n",
        "print(d.values())#displaying values\n",
        "d.update({'college':'SR University'})\n",
        "print(d)\n",
        "d.pop('college')\n",
        "print(d)"
      ],
      "metadata": {
        "colab": {
          "base_uri": "https://localhost:8080/"
        },
        "id": "IHxQUvIcT8z8",
        "outputId": "02885050-58ee-4dce-d719-c5e277f87e69"
      },
      "execution_count": null,
      "outputs": [
        {
          "output_type": "stream",
          "name": "stdout",
          "text": [
            "dict_keys(['name', 'age', 'dob'])\n",
            "krish\n",
            "dict_values(['krish', 19, '04-05-2003'])\n",
            "{'name': 'krish', 'age': 19, 'dob': '04-05-2003', 'college': 'SR University'}\n",
            "{'name': 'krish', 'age': 19, 'dob': '04-05-2003'}\n"
          ]
        }
      ]
    },
    {
      "cell_type": "markdown",
      "source": [
        "5. Implement the methods of Sets with examples"
      ],
      "metadata": {
        "id": "e4McOGGhSdcR"
      }
    },
    {
      "cell_type": "code",
      "execution_count": null,
      "metadata": {
        "id": "ydrKJStzwqIc",
        "colab": {
          "base_uri": "https://localhost:8080/"
        },
        "outputId": "b52869ee-fef1-4ed7-8817-5a283e6403fa"
      },
      "outputs": [
        {
          "output_type": "stream",
          "name": "stdout",
          "text": [
            "{1, 2, 3, 4}\n",
            "{1, 2, 3, 8, 9, 10}\n",
            "{1, 2, 3, 4, 8, 9, 10}\n",
            "{1, 2, 4, 8, 9, 10}\n",
            "{1, 2, 8, 9, 10}\n",
            "{8, 9, 10, 11, 12, 13}\n",
            "{8, 9, 10, 11, 12, 13}\n",
            "{8, 9, 10, 11, 12, 13}\n",
            "{10, 11}\n",
            "{10, 11}\n",
            "{10, 11}\n",
            "{12, 13}\n",
            "{12, 13}\n",
            "{8, 9}\n",
            "{8, 9}\n"
          ]
        }
      ],
      "source": [
        "s={1,2,3,8,9,10}\n",
        "s1={1,2,3,(5,6),(1,2,3),\"hello\"}\n",
        "l=[1,2,3,4]#convert list into set\n",
        "s2=set(l)\n",
        "print(s2)\n",
        "s.add(2)\n",
        "print(s)\n",
        "s.update([2,3,4])\n",
        "print(s)\n",
        "s.discard(3)\n",
        "print(s)\n",
        "s.remove(4)\n",
        "print(s)\n",
        "#set operations\n",
        "a={10,11,12,13}\n",
        "b={9,10,8,11}\n",
        "#union\n",
        "print(a|b)\n",
        "print(a.union(b))\n",
        "print(b.union(a))\n",
        "#intersection\n",
        "print(a&b)\n",
        "print(a.intersection(b))\n",
        "print(b.intersection(a))\n",
        "#difference\n",
        "print(a-b)\n",
        "print(a.difference(b))\n",
        "print(b-a)\n",
        "print(b.difference(a))"
      ]
    },
    {
      "cell_type": "markdown",
      "source": [
        "6. Write a python program to convert Decimal to Binary, Octal and Hexadecimal with \n",
        "direct method."
      ],
      "metadata": {
        "id": "-ON2q1W_Ttf8"
      }
    },
    {
      "cell_type": "code",
      "source": [
        "a=int(input('Enter a number:'))\n",
        "print(\"The input value is:\",a)\n",
        "print(\"Binary:\",bin(a))\n",
        "print(\"Octal:\",oct(a))\n",
        "print(\"Hexadecimal\",hex(a))"
      ],
      "metadata": {
        "colab": {
          "base_uri": "https://localhost:8080/"
        },
        "id": "JLvqPoQKTre1",
        "outputId": "f3d0495f-f734-4c67-e04d-bb590adc600b"
      },
      "execution_count": null,
      "outputs": [
        {
          "output_type": "stream",
          "name": "stdout",
          "text": [
            "Enter a number:2\n",
            "The input value is: 2\n",
            "Binary: 0b10\n",
            "Octal: 0o2\n",
            "Hexadecimal 0x2\n"
          ]
        }
      ]
    },
    {
      "cell_type": "markdown",
      "source": [
        "7. Implement Arithmetic operators with examples"
      ],
      "metadata": {
        "id": "HUfKi0RUWbs_"
      }
    },
    {
      "cell_type": "code",
      "source": [
        "a=4\n",
        "b=2\n",
        "print('Addition is',a+b)\n",
        "print('Subtraction is',a-b)\n",
        "print('Multiplication is',a*b)\n",
        "print('Division is',a/b)\n",
        "print('Modulo division is',a%b)\n",
        "print('Exponential is',a**b)\n",
        "print('Floor division is',a//b)"
      ],
      "metadata": {
        "colab": {
          "base_uri": "https://localhost:8080/"
        },
        "id": "X5Nz8JIaV222",
        "outputId": "45a018fc-6bea-4691-ec10-40307655ca71"
      },
      "execution_count": null,
      "outputs": [
        {
          "output_type": "stream",
          "name": "stdout",
          "text": [
            "Addition is 6\n",
            "Subtraction is 2\n",
            "Multiplication is 8\n",
            "Division is 2.0\n",
            "Modulo division is 0\n",
            "Exponential is 16\n",
            "Floor division is 2\n"
          ]
        }
      ]
    },
    {
      "cell_type": "markdown",
      "source": [
        "8. Implement Assignment operators with examples."
      ],
      "metadata": {
        "id": "yUUv3WFoW_4i"
      }
    },
    {
      "cell_type": "code",
      "source": [
        "a=4\n",
        "b=2\n",
        "a+=b\n",
        "print('Addition is',a)\n",
        "a-=b\n",
        "print('Subtraction is',a)\n",
        "a*=b\n",
        "print('Multiplication is',a)\n",
        "a/=b\n",
        "print('Division is',a)\n",
        "a%=b\n",
        "print('Modulo division is',a)\n",
        "a**=b\n",
        "print('Exponential is',a)\n",
        "a//=b\n",
        "print('Floor division is',a)"
      ],
      "metadata": {
        "colab": {
          "base_uri": "https://localhost:8080/"
        },
        "id": "uqwX_Q8ZWpH9",
        "outputId": "eea3b233-af61-45d0-e0f7-0c4a12c8d4e1"
      },
      "execution_count": null,
      "outputs": [
        {
          "output_type": "stream",
          "name": "stdout",
          "text": [
            "Addition is 6\n",
            "Subtraction is 4\n",
            "Multiplication is 8\n",
            "Division is 4.0\n",
            "Modulo division is 0.0\n",
            "Exponential is 0.0\n",
            "Floor division is 0.0\n"
          ]
        }
      ]
    },
    {
      "cell_type": "markdown",
      "source": [
        "9. Implement Comparison operators with examples."
      ],
      "metadata": {
        "id": "MxaEkoNjYPX4"
      }
    },
    {
      "cell_type": "code",
      "source": [
        "x=4\n",
        "y=3\n",
        "print(x==y)#equal\n",
        "print(x!=y)#not equal\n",
        "print(x>y)#greater\n",
        "print(x<y)#less than\n",
        "print(x>=y)#greater than or equal to\n",
        "print(x<=y)#less than or equal to"
      ],
      "metadata": {
        "colab": {
          "base_uri": "https://localhost:8080/"
        },
        "id": "CdgHHLeqXREE",
        "outputId": "d0267751-71ce-4469-c000-aeb8485ca7b5"
      },
      "execution_count": null,
      "outputs": [
        {
          "output_type": "stream",
          "name": "stdout",
          "text": [
            "False\n",
            "True\n",
            "True\n",
            "False\n",
            "True\n",
            "False\n"
          ]
        }
      ]
    },
    {
      "cell_type": "markdown",
      "source": [
        "10. Implement Logical operators with examples."
      ],
      "metadata": {
        "id": "tcvlFGbVZXQx"
      }
    },
    {
      "cell_type": "code",
      "source": [
        "x=True\n",
        "y=False\n",
        "print(\"a and y is\",x and y)\n",
        "print(\"a or y is\",x or y)\n",
        "print(\"a is\",not x)"
      ],
      "metadata": {
        "colab": {
          "base_uri": "https://localhost:8080/"
        },
        "id": "GDz1xW__YuEz",
        "outputId": "2059833e-33ef-49c9-b689-5ca394071156"
      },
      "execution_count": null,
      "outputs": [
        {
          "output_type": "stream",
          "name": "stdout",
          "text": [
            "a and y is False\n",
            "a or y is True\n",
            "a is False\n"
          ]
        }
      ]
    },
    {
      "cell_type": "markdown",
      "source": [
        "11. Implement Bitwise operators with examples."
      ],
      "metadata": {
        "id": "fqwVHP7WZius"
      }
    },
    {
      "cell_type": "code",
      "source": [
        "a=4\n",
        "b=2\n",
        "print(a&b)#And\n",
        "print(a^b)#XOR\n",
        "print(a|b)#OR\n",
        "print(~a)#Negation\n",
        "print(a>>2)#Right Shift\n",
        "print(a<<2)#left shift"
      ],
      "metadata": {
        "colab": {
          "base_uri": "https://localhost:8080/"
        },
        "id": "MPC32UXoZhll",
        "outputId": "cdbbb760-b90f-4bb1-822b-9a4438c042e8"
      },
      "execution_count": null,
      "outputs": [
        {
          "output_type": "stream",
          "name": "stdout",
          "text": [
            "0\n",
            "6\n",
            "6\n",
            "-5\n",
            "1\n",
            "16\n"
          ]
        }
      ]
    },
    {
      "cell_type": "markdown",
      "source": [
        "12. Implement Membership operators with examples."
      ],
      "metadata": {
        "id": "TDH7PkswZ_Cs"
      }
    },
    {
      "cell_type": "code",
      "source": [
        "x=\"Krishna Veni\"\n",
        "y={10:'y',20:'z'}\n",
        "print('H' in x)\n",
        "print(10 in y)\n",
        "print('a' not in y)"
      ],
      "metadata": {
        "colab": {
          "base_uri": "https://localhost:8080/"
        },
        "id": "Db8WGu4lZ31V",
        "outputId": "a575806a-5a87-4dd4-ce0d-fc433c50ed44"
      },
      "execution_count": null,
      "outputs": [
        {
          "output_type": "stream",
          "name": "stdout",
          "text": [
            "False\n",
            "True\n",
            "True\n"
          ]
        }
      ]
    },
    {
      "cell_type": "markdown",
      "source": [
        "13. Implement Identity operators with examples\n"
      ],
      "metadata": {
        "id": "kgMmNPGhaa5G"
      }
    },
    {
      "cell_type": "code",
      "source": [
        "x1=101\n",
        "y1=100\n",
        "x2=\"Hello\"\n",
        "y2=\"Happy\"\n",
        "x3=[1,2,3]\n",
        "y3=[1,2,3]\n",
        "print(x1 is not y1)\n",
        "print(x1 is not y1)\n",
        "print(x3 is y3)"
      ],
      "metadata": {
        "colab": {
          "base_uri": "https://localhost:8080/"
        },
        "id": "bwIseKVBaF73",
        "outputId": "36d97b1a-d598-4b00-fb26-ac6dd6664e55"
      },
      "execution_count": null,
      "outputs": [
        {
          "output_type": "stream",
          "name": "stdout",
          "text": [
            "True\n",
            "True\n",
            "False\n"
          ]
        }
      ]
    },
    {
      "cell_type": "markdown",
      "source": [
        "14. Demonstrate Negative indexing for List and apply slicing"
      ],
      "metadata": {
        "id": "7wU650Baa2xh"
      }
    },
    {
      "cell_type": "code",
      "source": [
        "l=[1,2,\"Krish\",\"Yalla\"]\n",
        "print(l[-1])#Negative indexing\n",
        "print(l[1:3])#Slicing\n",
        "print(l[::-1])#Reverse\n",
        "print(l[-1:-3:-1])"
      ],
      "metadata": {
        "colab": {
          "base_uri": "https://localhost:8080/"
        },
        "id": "D0HMtZvFaxLR",
        "outputId": "f9515eaa-26c5-4939-c27a-28c916e7f1ad"
      },
      "execution_count": null,
      "outputs": [
        {
          "output_type": "stream",
          "name": "stdout",
          "text": [
            "Yalla\n",
            "[2, 'Krish']\n",
            "['Yalla', 'Krish', 2, 1]\n",
            "['Yalla', 'Krish']\n"
          ]
        }
      ]
    },
    {
      "cell_type": "markdown",
      "source": [
        "15. Predict the output for the given code snippet and justify the result."
      ],
      "metadata": {
        "id": "8nkbbgRdbltu"
      }
    },
    {
      "cell_type": "code",
      "source": [
        "print('A series of characters designated as one object known as a string'[::-1])\n",
        "print('A series of characters designated as one object known as a string'[::-1][4::3])\n",
        "print(\"--------------------\")\n",
        "print('Welcome to Python training program'[3:10][::-1])"
      ],
      "metadata": {
        "colab": {
          "base_uri": "https://localhost:8080/"
        },
        "id": "pWT-PtDqbBuf",
        "outputId": "43906964-669d-4a10-d7ed-2e1b15dce755"
      },
      "execution_count": null,
      "outputs": [
        {
          "output_type": "stream",
          "name": "stdout",
          "text": [
            "gnirts a sa nwonk tcejbo eno sa detangised sretcarahc fo seires A\n",
            "taawkcbe  tgestrcoeeA\n",
            "--------------------\n",
            "ot emoc\n"
          ]
        }
      ]
    },
    {
      "cell_type": "markdown",
      "source": [
        "Justofication:\n",
        "1.[::-1] reverses the entire string and [4::3] prints initially the first letter at 4th index and next letters after every 2 indexes\n",
        "2.[3:10] prints the range of letters between indexes 3 and 10 later on it reverses the range of letters obtained in [3:10]"
      ],
      "metadata": {
        "id": "qtBDQh73dHlK"
      }
    },
    {
      "cell_type": "markdown",
      "source": [
        "16. Write a python code to get desired output"
      ],
      "metadata": {
        "id": "A3KSgtMOeiIZ"
      }
    },
    {
      "cell_type": "code",
      "source": [
        "s=input('Enter a string')\n",
        "print('p_phrase=',s)\n",
        "t=s[::-1]\n",
        "print(t.upper())"
      ],
      "metadata": {
        "colab": {
          "base_uri": "https://localhost:8080/"
        },
        "id": "kBtYc3C1cFPy",
        "outputId": "513935de-9fe3-45de-b33b-c6cffd4046eb"
      },
      "execution_count": null,
      "outputs": [
        {
          "output_type": "stream",
          "name": "stdout",
          "text": [
            "Enter a stringwas it a car or a cat I saw\n",
            "p_phrase= was it a car or a cat I saw\n",
            "WAS I TAC A RO RAC A TI SAW\n"
          ]
        }
      ]
    },
    {
      "cell_type": "markdown",
      "source": [
        "17. You are required to generate a word similar to ZOO, X and Y that denote the number \n",
        "of Zs and Os respectively. The generated word similar to ZOO where Y= 2 * X. \n",
        " Input X= 2 Output ZZOOOO \n",
        " Input X= 5 Output ZZZZZOOOOOOOOOO"
      ],
      "metadata": {
        "id": "acYAJk-iggGJ"
      }
    },
    {
      "cell_type": "code",
      "source": [
        "\n",
        "a=int(input())\n",
        "for i in range(a):\n",
        "  print('Z',end=\"\")\n",
        "for i in range(a<<1):\n",
        "  print('O',end=\"\")\n",
        "print(\"\\n\") \n",
        "#Using lists\n",
        "a=int(input())\n",
        "l=[]\n",
        "for i in range(a):\n",
        "  l.insert(a,'Z')\n",
        "for i in range(a<<1):\n",
        "  l.insert(a,'O')\n",
        "print(''.join(l))"
      ],
      "metadata": {
        "colab": {
          "base_uri": "https://localhost:8080/"
        },
        "id": "1ig2uAzTe2uC",
        "outputId": "5e3ffcc4-7269-4fd0-d859-a6f0f0f0fc17"
      },
      "execution_count": 28,
      "outputs": [
        {
          "output_type": "stream",
          "name": "stdout",
          "text": [
            "2\n",
            "ZZOOOO\n",
            "\n",
            "3\n",
            "ZZZOOOOOO\n"
          ]
        }
      ]
    },
    {
      "cell_type": "code",
      "source": [
        ""
      ],
      "metadata": {
        "id": "Hk-3GvZ5g0px"
      },
      "execution_count": null,
      "outputs": []
    }
  ]
}