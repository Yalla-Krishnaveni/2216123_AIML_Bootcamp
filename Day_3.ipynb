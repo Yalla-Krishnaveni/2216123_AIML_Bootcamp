{
  "nbformat": 4,
  "nbformat_minor": 0,
  "metadata": {
    "colab": {
      "name": "Day-3.ipynb",
      "provenance": [],
      "collapsed_sections": [],
      "authorship_tag": "ABX9TyPxuV8QM1Yqx6wEgU7wIoJ9",
      "include_colab_link": true
    },
    "kernelspec": {
      "name": "python3",
      "display_name": "Python 3"
    },
    "language_info": {
      "name": "python"
    }
  },
  "cells": [
    {
      "cell_type": "markdown",
      "metadata": {
        "id": "view-in-github",
        "colab_type": "text"
      },
      "source": [
        "<a href=\"https://colab.research.google.com/github/Yalla-Krishnaveni/2216123_AIML_Bootcamp/blob/main/Day_3.ipynb\" target=\"_parent\"><img src=\"https://colab.research.google.com/assets/colab-badge.svg\" alt=\"Open In Colab\"/></a>"
      ]
    },
    {
      "cell_type": "code",
      "execution_count": null,
      "metadata": {
        "colab": {
          "base_uri": "https://localhost:8080/"
        },
        "id": "BtP9ttWpDNHe",
        "outputId": "4fc5729b-29f9-4f26-912d-720019b67cc7"
      },
      "outputs": [
        {
          "output_type": "stream",
          "name": "stdout",
          "text": [
            "Addition: 10\n",
            "Subtraction: 0\n",
            "Multiplication: 25\n",
            "Division: 1.0\n"
          ]
        }
      ],
      "source": [
        "#class and objects\n",
        "class co:\n",
        "  def s(self,a,b):\n",
        "    return a-b\n",
        "  def a(self,a,b):\n",
        "    return a+b\n",
        "  def m(self,a,b):\n",
        "    return a*b\n",
        "  def d(self,a,b):\n",
        "    return a/b\n",
        "obj=co()\n",
        "print(\"Addition:\",obj.a(5,5))\n",
        "print(\"Subtraction:\",obj.s(5,5))\n",
        "print(\"Multiplication:\",obj.m(5,5))\n",
        "print(\"Division:\",obj.d(5,5))"
      ]
    },
    {
      "cell_type": "code",
      "source": [
        "class c1:\n",
        "  '''description'''\n",
        "  cv=\"demonstrates class creation\"\n",
        "  def cm(self):\n",
        "    return \"method invokation\"\n",
        "  def __str__(self):\n",
        "    return \"returns string to object\"\n",
        "\n",
        "obj1=c1()\n",
        "print(obj1.cv)\n",
        "print(obj1.cm())\n",
        "print(obj1)"
      ],
      "metadata": {
        "colab": {
          "base_uri": "https://localhost:8080/"
        },
        "id": "ZB3WnR-wD3zt",
        "outputId": "53c71249-1aa2-4388-84b3-67a5c488070c"
      },
      "execution_count": null,
      "outputs": [
        {
          "output_type": "stream",
          "name": "stdout",
          "text": [
            "demonstrates class creation\n",
            "method invokation\n",
            "returns string to object\n"
          ]
        }
      ]
    },
    {
      "cell_type": "code",
      "source": [
        "class sub:\n",
        "  def s(self,a,b):\n",
        "    return a-b\n",
        "class add:\n",
        "  def a(self,a,b):\n",
        "    return a+b\n",
        "class mul:\n",
        "  def m(self,a,b):\n",
        "    return a*b\n",
        "class div:\n",
        "  def di(self,a,b):\n",
        "    return a/b\n",
        "class modd:\n",
        "  def md(self,a,b):\n",
        "    return a%b\n",
        "class floordiv:\n",
        "  def fd(self,a,b):\n",
        "    return a//b\n",
        "class pow:\n",
        "  def p(self,a,b):\n",
        "    return a**b\n",
        "\n",
        "obj=add()\n",
        "print(\"Addition:\",obj.a(5,5))\n",
        "obj1=sub()\n",
        "print(\"Subtraction:\",obj1.s(5,5))\n",
        "obj2=mul()\n",
        "print(\"Multiplication:\",obj2.m(5,5))\n",
        "obj3=div()\n",
        "print(\"Division:\",obj3.di(5,5))\n",
        "obj4=modd()\n",
        "print(\"Modulo Division:\",obj4.md(5,5))\n",
        "obj5=floordiv()\n",
        "print(\"Floor Division:\",obj5.fd(5,5))\n",
        "obj6=pow()\n",
        "print(\"Power:\",obj6.p(2,5))"
      ],
      "metadata": {
        "colab": {
          "base_uri": "https://localhost:8080/"
        },
        "id": "R8ZLCdrmFjtC",
        "outputId": "5f128011-8eb2-43b2-d014-b808730f534d"
      },
      "execution_count": null,
      "outputs": [
        {
          "output_type": "stream",
          "name": "stdout",
          "text": [
            "Addition: 10\n",
            "Subtraction: 0\n",
            "Multiplication: 25\n",
            "Division: 1.0\n",
            "Modulo Division: 0\n",
            "Floor Division: 1\n",
            "Power: 32\n"
          ]
        }
      ]
    },
    {
      "cell_type": "code",
      "source": [
        "#Inheritance\n",
        "class Animal:\n",
        "  def animal_sounds(self):\n",
        "    return \"makes sound\"\n",
        "class Cat(Animal):\n",
        "  def cat_sound(self):\n",
        "    return self.animal_sounds()+\"MEOW\"\n",
        "  def color(self):\n",
        "    return \"color is black\"\n",
        " \n",
        "Catobj=Cat()\n",
        "print(Catobj,Catobj.cat_sound)"
      ],
      "metadata": {
        "colab": {
          "base_uri": "https://localhost:8080/"
        },
        "id": "7bJDq068GNdd",
        "outputId": "ce2bfe23-40da-49ac-e9fb-184d4832df1b"
      },
      "execution_count": null,
      "outputs": [
        {
          "output_type": "stream",
          "name": "stdout",
          "text": [
            "<__main__.Cat object at 0x7fa350e9b810> <bound method Cat.cat_sound of <__main__.Cat object at 0x7fa350e9b810>>\n"
          ]
        }
      ]
    },
    {
      "cell_type": "code",
      "source": [
        "class Animal:\n",
        "  def animal_sounds(self):\n",
        "    return \"makes sound\"\n",
        "class Cat(Animal):\n",
        "  def cat_sound(self):\n",
        "    return self.animal_sounds()+\"MEOW\"\n",
        "class CatColor(Cat):\n",
        "  def __str__(self):\n",
        "    return \"CAT\"\n",
        "  def color(self):\n",
        "    return \"color is black\"\n",
        "\n",
        "catcolor=CatColor()\n",
        "print(catcolor,catcolor.cat_sound())\n",
        "print(catcolor,catcolor.color())\n",
        "\n",
        "class Animal:\n",
        "  def animal_sounds(self):\n",
        "    return \"makes sound\"\n",
        "class Dog(Animal):\n",
        "  def dog_sound(self):\n",
        "    return self.animal_sounds()+\"BOW\"\n",
        "class DogColor(Dog):\n",
        "  def __str__(self):\n",
        "    return \"Dog\"\n",
        "  def color(self):\n",
        "    return \"color is yellow\"\n",
        "\n",
        "dogcolor=DogColor()\n",
        "print(dogcolor,dogcolor.dog_sound())\n",
        "print(dogcolor,dogcolor.color())"
      ],
      "metadata": {
        "colab": {
          "base_uri": "https://localhost:8080/"
        },
        "id": "z-0tA9z5IvAD",
        "outputId": "86af1b8c-9a27-420b-e18d-794abe98154d"
      },
      "execution_count": null,
      "outputs": [
        {
          "output_type": "stream",
          "name": "stdout",
          "text": [
            "CAT makes soundMEOW\n",
            "CAT color is black\n",
            "Dog makes soundBOW\n",
            "Dog color is yellow\n"
          ]
        }
      ]
    },
    {
      "cell_type": "code",
      "source": [
        "#name\n",
        "try:\n",
        "  print(x)\n",
        "except NameError as ne:\n",
        "  print(\"Exception occurred\",ne)\n",
        "print(\"Excecuted\")"
      ],
      "metadata": {
        "colab": {
          "base_uri": "https://localhost:8080/"
        },
        "id": "sB_r5esmKtv_",
        "outputId": "fe6ee61c-8ad3-42e0-d880-756bca67ca44"
      },
      "execution_count": null,
      "outputs": [
        {
          "output_type": "stream",
          "name": "stdout",
          "text": [
            "Exception occurred name 'x' is not defined\n",
            "Excecuted\n"
          ]
        }
      ]
    },
    {
      "cell_type": "code",
      "source": [
        "#value\n",
        "a=\"25 xyz\"\n",
        "print(int(a))"
      ],
      "metadata": {
        "colab": {
          "base_uri": "https://localhost:8080/",
          "height": 201
        },
        "id": "5jFiKvE1MnIr",
        "outputId": "da1c4ba5-406d-42c8-f26b-99e818404227"
      },
      "execution_count": null,
      "outputs": [
        {
          "output_type": "error",
          "ename": "ValueError",
          "evalue": "ignored",
          "traceback": [
            "\u001b[0;31m---------------------------------------------------------------------------\u001b[0m",
            "\u001b[0;31mValueError\u001b[0m                                Traceback (most recent call last)",
            "\u001b[0;32m<ipython-input-36-d45275694322>\u001b[0m in \u001b[0;36m<module>\u001b[0;34m()\u001b[0m\n\u001b[1;32m      1\u001b[0m \u001b[0;31m#value\u001b[0m\u001b[0;34m\u001b[0m\u001b[0;34m\u001b[0m\u001b[0;34m\u001b[0m\u001b[0m\n\u001b[1;32m      2\u001b[0m \u001b[0ma\u001b[0m\u001b[0;34m=\u001b[0m\u001b[0;34m\"25 xyz\"\u001b[0m\u001b[0;34m\u001b[0m\u001b[0;34m\u001b[0m\u001b[0m\n\u001b[0;32m----> 3\u001b[0;31m \u001b[0mprint\u001b[0m\u001b[0;34m(\u001b[0m\u001b[0mint\u001b[0m\u001b[0;34m(\u001b[0m\u001b[0ma\u001b[0m\u001b[0;34m)\u001b[0m\u001b[0;34m)\u001b[0m\u001b[0;34m\u001b[0m\u001b[0;34m\u001b[0m\u001b[0m\n\u001b[0m",
            "\u001b[0;31mValueError\u001b[0m: invalid literal for int() with base 10: '25 xyz'"
          ]
        }
      ]
    },
    {
      "cell_type": "code",
      "source": [
        "a=\"100 krish\"\n",
        "try:\n",
        "  print(int(a))\n",
        "except ValueError as ne:\n",
        "  print(ne)"
      ],
      "metadata": {
        "colab": {
          "base_uri": "https://localhost:8080/"
        },
        "id": "PpZrjPnzM6yK",
        "outputId": "e076fa6e-0633-4bc5-d572-0ec6b9fd5ddb"
      },
      "execution_count": null,
      "outputs": [
        {
          "output_type": "stream",
          "name": "stdout",
          "text": [
            "invalid literal for int() with base 10: '100 krish'\n"
          ]
        }
      ]
    },
    {
      "cell_type": "code",
      "source": [
        "#Exception Handling\n",
        "class invalidid(Exception):\n",
        "  pass\n",
        "stdid=input(\"Enter id\")\n",
        "try:\n",
        "  if (stdid[:4]!='2003'):\n",
        "    raise invalidid\n",
        "except invalidid as i:\n",
        "  print(\"invalid\")\n",
        "print(\"Verified\")"
      ],
      "metadata": {
        "colab": {
          "base_uri": "https://localhost:8080/"
        },
        "id": "pHmU-SIANLXW",
        "outputId": "31ca4433-8293-4b54-b4e7-eb47ac4232e0"
      },
      "execution_count": null,
      "outputs": [
        {
          "output_type": "stream",
          "name": "stdout",
          "text": [
            "Enter id20035\n",
            "Verified\n"
          ]
        }
      ]
    },
    {
      "cell_type": "code",
      "source": [
        "class invalidid(Exception):\n",
        "  def __str__(self):\n",
        "    return \"Error raised\"\n",
        "stdid=input(\"Enter id\")\n",
        "try:\n",
        "  if (stdid[:4]!='2003'):\n",
        "    raise invalidid\n",
        "except invalidid as i:\n",
        "  print(\"invalid\")\n",
        "print(\"Verified\")"
      ],
      "metadata": {
        "colab": {
          "base_uri": "https://localhost:8080/"
        },
        "id": "aO6ZzAKLOKsK",
        "outputId": "5148e213-253c-4561-e056-a3a7ec18b732"
      },
      "execution_count": null,
      "outputs": [
        {
          "output_type": "stream",
          "name": "stdout",
          "text": [
            "Enter id3245\n",
            "invalid\n",
            "Verified\n"
          ]
        }
      ]
    },
    {
      "cell_type": "code",
      "source": [
        "#implement exception handling for age of voter\n",
        "class exce(Exception):\n",
        "  pass\n",
        "a=int(input(\"Enter your age:\"))\n",
        "try:\n",
        "  if(a>=18):\n",
        "    print(\"Eligible\")\n",
        "  else:\n",
        "    raise exce\n",
        "\n",
        "except exce as i:\n",
        "  print(\"Not Eligible\")"
      ],
      "metadata": {
        "colab": {
          "base_uri": "https://localhost:8080/"
        },
        "id": "3sRobijKPTqT",
        "outputId": "32f3c79d-09f9-44d9-e2d5-a123fc11d760"
      },
      "execution_count": null,
      "outputs": [
        {
          "output_type": "stream",
          "name": "stdout",
          "text": [
            "Enter your age:13\n",
            "Not Eligible\n"
          ]
        }
      ]
    },
    {
      "cell_type": "code",
      "source": [
        "f=open(\"sample.txt\",\"x\")"
      ],
      "metadata": {
        "id": "M8pj8zLHQRFf"
      },
      "execution_count": null,
      "outputs": []
    },
    {
      "cell_type": "code",
      "source": [
        "f=open(\"sample.txt\",\"w\")\n",
        "f.write(\"Welcome\")\n",
        "f.close()"
      ],
      "metadata": {
        "id": "jlHNDQACiI5w"
      },
      "execution_count": null,
      "outputs": []
    },
    {
      "cell_type": "code",
      "source": [
        "f=open(\"sample.txt\",\"r\")\n",
        "print(f.read())\n",
        "f.close()"
      ],
      "metadata": {
        "colab": {
          "base_uri": "https://localhost:8080/"
        },
        "id": "zA4-LsVfiMMX",
        "outputId": "67b7a9e0-dae0-4b8e-d992-30a71031c139"
      },
      "execution_count": null,
      "outputs": [
        {
          "output_type": "stream",
          "name": "stdout",
          "text": [
            "Welcome\n"
          ]
        }
      ]
    },
    {
      "cell_type": "code",
      "source": [
        "import os\n",
        "os.remove(\"sample.txt\")"
      ],
      "metadata": {
        "id": "XEjQDXOXiWZy"
      },
      "execution_count": null,
      "outputs": []
    },
    {
      "cell_type": "code",
      "source": [
        "#f=open(\"sample.txt\",\"x\")\n",
        "f=open(\"sample.txt\",\"w\")\n",
        "f.write(\"Welcome\")\n",
        "f.write(\"Krishnaveni Yalla\")\n",
        "f.close()"
      ],
      "metadata": {
        "colab": {
          "base_uri": "https://localhost:8080/"
        },
        "id": "C9LTgsgRjSRq",
        "outputId": "e14207f4-42b0-4da3-9b99-b388a8337c06"
      },
      "execution_count": null,
      "outputs": [
        {
          "output_type": "stream",
          "name": "stdout",
          "text": [
            "\n",
            "\n"
          ]
        }
      ]
    },
    {
      "cell_type": "code",
      "source": [
        "f=open(\"sample.txt\",\"r\")\n",
        "print(f.read(3))\n",
        "print(f.tell())#tell where cursor is\n",
        "print(f.seek(2))#moves cursor to desired position\n",
        "print(f.seek(0))\n",
        "print(f.readline())\n",
        "f.close()"
      ],
      "metadata": {
        "colab": {
          "base_uri": "https://localhost:8080/"
        },
        "id": "4jzNzjTmi2Es",
        "outputId": "08f2698a-bdf8-4f40-cad0-a79dcf6cd95e"
      },
      "execution_count": null,
      "outputs": [
        {
          "output_type": "stream",
          "name": "stdout",
          "text": [
            "Wel\n",
            "3\n",
            "2\n",
            "0\n",
            "WelcomeKrishnaveni Yalla\n"
          ]
        }
      ]
    },
    {
      "cell_type": "code",
      "source": [
        "#copy paste\n",
        "f1=open(\"f1.txt\",\"x\")\n",
        "f2=open(\"f2.txt\",\"x\")"
      ],
      "metadata": {
        "id": "lvfDMEXqjCyF"
      },
      "execution_count": null,
      "outputs": []
    },
    {
      "cell_type": "code",
      "source": [
        "f1=open(\"f1.txt\",\"w\")\n",
        "f1.write(\"kRISH\")\n",
        "f1.close()"
      ],
      "metadata": {
        "id": "2cA5-G2xkS8p"
      },
      "execution_count": null,
      "outputs": []
    },
    {
      "cell_type": "code",
      "source": [
        "f1=open(\"f1.txt\",\"r\")\n",
        "t=f1.read()\n",
        "f1.close()\n",
        "\n",
        "f2=open(\"f2.txt\",\"w\")\n",
        "f2.write(t)\n",
        "f2.close()"
      ],
      "metadata": {
        "id": "cUd_efimkZ8r"
      },
      "execution_count": null,
      "outputs": []
    },
    {
      "cell_type": "code",
      "source": [
        "a=input(\"Enter the string:\")\n",
        "r=\"\"\n",
        "for i in range(len(a)):\n",
        "  if not i%2:\n",
        "    r=r+a[i].upper()\n",
        "  else:\n",
        "    r=r+a[i].lower()\n",
        "print(r)"
      ],
      "metadata": {
        "colab": {
          "base_uri": "https://localhost:8080/"
        },
        "id": "fdzPv7__kolf",
        "outputId": "3655a62f-2fcf-40be-92de-7c50b547be0e"
      },
      "execution_count": null,
      "outputs": [
        {
          "output_type": "stream",
          "name": "stdout",
          "text": [
            "Enter the string:krsih\n",
            "KrSiH\n"
          ]
        }
      ]
    },
    {
      "cell_type": "code",
      "source": [
        "import pickle\n",
        "m=['a','b','c']\n",
        "f3=open(\"d.txt\",\"wb\")\n",
        "pickle.dump(m,f3)\n",
        "f3.close()\n",
        "\n",
        "import pickle\n",
        "pickle_off=open(\"d.txt\",\"rb\")\n",
        "e=pickle.load(pickle_off)\n",
        "print(e) \n"
      ],
      "metadata": {
        "colab": {
          "base_uri": "https://localhost:8080/"
        },
        "id": "NAQguUKhmr1q",
        "outputId": "5941d341-6f18-4933-976a-0dcc32d93c0f"
      },
      "execution_count": null,
      "outputs": [
        {
          "output_type": "stream",
          "name": "stdout",
          "text": [
            "['a', 'b', 'c']\n"
          ]
        }
      ]
    },
    {
      "cell_type": "code",
      "source": [
        "import pickle\n",
        "m=['a','b','c']\n",
        "with open(\"d2.txt\",\"wb\") as f4:\n",
        "  pickle.dump(m,f4)\n",
        "import pickle\n",
        "pickle_off=open(\"d2.txt\",\"rb\")\n",
        "e=pickle.load(pickle_off)\n",
        "print(e) \n"
      ],
      "metadata": {
        "colab": {
          "base_uri": "https://localhost:8080/"
        },
        "id": "O0noSYGJof31",
        "outputId": "146bd7f5-80ba-41d4-f3dd-8d0b0f79401a"
      },
      "execution_count": null,
      "outputs": [
        {
          "output_type": "stream",
          "name": "stdout",
          "text": [
            "['a', 'b', 'c']\n"
          ]
        }
      ]
    },
    {
      "cell_type": "code",
      "source": [
        "#regular expresssio n\n",
        "import re\n",
        "pattern=r\"COOKIE\"\n",
        "sequence=(\"COOKI\")\n",
        "if re.match(pattern,sequence):\n",
        "  print(\"MATCH\")\n",
        "else:\n",
        "  print(\"Not a match\")"
      ],
      "metadata": {
        "colab": {
          "base_uri": "https://localhost:8080/"
        },
        "id": "mJ2HRvfIpHDO",
        "outputId": "7ec3fa6c-8206-485e-eff3-31d8899ef9c8"
      },
      "execution_count": null,
      "outputs": [
        {
          "output_type": "stream",
          "name": "stdout",
          "text": [
            "Not a match\n"
          ]
        }
      ]
    },
    {
      "cell_type": "code",
      "source": [
        "import re\n",
        "phn=input(\"Emter:\")\n",
        "print(re.search(r'\\d{10}',phn).group())"
      ],
      "metadata": {
        "colab": {
          "base_uri": "https://localhost:8080/"
        },
        "id": "lMQdLwxKpzpm",
        "outputId": "4118a84b-9a02-4d47-bec8-744719c6346f"
      },
      "execution_count": null,
      "outputs": [
        {
          "output_type": "stream",
          "name": "stdout",
          "text": [
            "Emter:9912347788\n",
            "9912347788\n"
          ]
        }
      ]
    },
    {
      "cell_type": "code",
      "source": [
        "#import re\n",
        "mail=input(\"Emter mail:\")\n",
        "str1=r'[A-Za-z0-9.-_]+@[A-Za-z0-9.-]+[A-Z|a-z]'\n",
        "print(re.search(str1,mail).group())"
      ],
      "metadata": {
        "colab": {
          "base_uri": "https://localhost:8080/"
        },
        "id": "GRtMFCfCqJ8h",
        "outputId": "b4b10fae-f89d-4366-dac3-3ffcf8cd2ea6"
      },
      "execution_count": null,
      "outputs": [
        {
          "output_type": "stream",
          "name": "stdout",
          "text": [
            "Emter mail:krish@o.in\n",
            "krish@o.in\n"
          ]
        }
      ]
    },
    {
      "cell_type": "code",
      "source": [
        ""
      ],
      "metadata": {
        "id": "jAVAS0dOq8xt"
      },
      "execution_count": null,
      "outputs": []
    }
  ]
}