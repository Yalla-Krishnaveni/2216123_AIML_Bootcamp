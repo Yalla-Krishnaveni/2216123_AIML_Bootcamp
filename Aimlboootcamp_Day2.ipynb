{
  "nbformat": 4,
  "nbformat_minor": 0,
  "metadata": {
    "colab": {
      "name": "Aimlboootcamp_Day2.ipynb",
      "provenance": [],
      "collapsed_sections": [],
      "authorship_tag": "ABX9TyONtUJytS5bnNbkf468t+0F",
      "include_colab_link": true
    },
    "kernelspec": {
      "name": "python3",
      "display_name": "Python 3"
    },
    "language_info": {
      "name": "python"
    }
  },
  "cells": [
    {
      "cell_type": "markdown",
      "metadata": {
        "id": "view-in-github",
        "colab_type": "text"
      },
      "source": [
        "<a href=\"https://colab.research.google.com/github/Yalla-Krishnaveni/2216123_AIML_Bootcamp/blob/main/Aimlboootcamp_Day2.ipynb\" target=\"_parent\"><img src=\"https://colab.research.google.com/assets/colab-badge.svg\" alt=\"Open In Colab\"/></a>"
      ]
    },
    {
      "cell_type": "code",
      "execution_count": null,
      "metadata": {
        "colab": {
          "base_uri": "https://localhost:8080/"
        },
        "id": "yTvreeN7gf5W",
        "outputId": "9693cfda-82eb-46d1-89a3-441ff6b8e067"
      },
      "outputs": [
        {
          "output_type": "stream",
          "name": "stdout",
          "text": [
            "True\n",
            "10\n",
            "Enter your age:13\n",
            "Not Eligible\n"
          ]
        }
      ],
      "source": [
        "#DECISION MAKING\n",
        "#IF STATEMENT\n",
        "a=10\n",
        "if(a>1):\n",
        "  print(\"True\")\n",
        "  print(a)\n",
        "\n",
        "a1=0\n",
        "if(a1>1):\n",
        "  print(\"True\")\n",
        "  print(a1)\n",
        "#IF ELSE\n",
        "b=int(input('Enter your age:'))\n",
        "if(b>=18):\n",
        "  print('Eligible')\n",
        "else:\n",
        "  print('Not Eligible')"
      ]
    },
    {
      "cell_type": "code",
      "source": [
        "#NESTED IF\n",
        "#Bus tickets\n",
        "age=int(input('Enter age:'))\n",
        "cost=int(input('Enter cost for full ticket:'))\n",
        "if age>12 and age<=18:\n",
        "  if age<15:\n",
        "    print(\"Quarter ticket+discount\")\n",
        "    s=cost*0.25*0.9\n",
        "  elif age==15:\n",
        "    print(\"Quarter ticket\")\n",
        "    s=cost*0.25\n",
        "  else:\n",
        "    print(\"Half ticket\")\n",
        "    s=cost*0.5\n",
        "elif age>=19 and age<=60:\n",
        "  print(\"Full ticket\")\n",
        "  s=60\n",
        "  s=cost\n",
        "elif age>60:\n",
        "  print(\"Full ticket+discount\")\n",
        "  s=cost*0.9\n",
        "else:\n",
        "  print(\"No ticket\")\n",
        "  s=0\n",
        "print(s)  "
      ],
      "metadata": {
        "colab": {
          "base_uri": "https://localhost:8080/"
        },
        "id": "RYOapw8ahlzl",
        "outputId": "c609b5b0-c8c6-4787-8baa-582ec3a829ac"
      },
      "execution_count": null,
      "outputs": [
        {
          "output_type": "stream",
          "name": "stdout",
          "text": [
            "Enter age:16\n",
            "Enter cost for full ticket:60\n",
            "Half ticket\n",
            "30.0\n"
          ]
        }
      ]
    },
    {
      "cell_type": "code",
      "source": [
        "#LOOPS\n",
        "#FOR LOOP\n",
        "n=[1,2,3,4,5,6,7]\n",
        "s=0\n",
        "for i in n:\n",
        "  s+=i\n",
        "print(s)  \n",
        "\n",
        "for i in range(1,11):\n",
        "  print(i,end=\",\")\n",
        "print(\"\\n\")\n",
        "for i in range(1,11,2):\n",
        "  print(i,end=\",\")\n",
        "print(\"\\n\")\n",
        "x=[1,2,3,4,5]\n",
        "y=[]\n",
        "for a in x:\n",
        "  if a%2!=0:\n",
        "    y.append(a)\n",
        "print(y)\n",
        "print(\"\\n\")\n",
        "d=[0,1,5]\n",
        "for i in d:\n",
        "  if i%2==0:\n",
        "    print(i,end=\"\")\n",
        "else:\n",
        "  print(\"no\") \n",
        "\n",
        "for l in \"python\":\n",
        "  print(l)\n",
        "\n",
        "#Iterating by sequence indexing\n",
        "f=[\"apple\",\"banana\",\"grapes\"]\n",
        "for i in range(len(f)):\n",
        "  print(f[i])"
      ],
      "metadata": {
        "colab": {
          "base_uri": "https://localhost:8080/"
        },
        "id": "Kk5gJNoOknsc",
        "outputId": "d81dbd72-4110-4c75-c803-f420f526ac46"
      },
      "execution_count": null,
      "outputs": [
        {
          "output_type": "stream",
          "name": "stdout",
          "text": [
            "28\n",
            "1,2,3,4,5,6,7,8,9,10,\n",
            "\n",
            "1,3,5,7,9,\n",
            "\n",
            "[1, 3, 5]\n",
            "\n",
            "\n",
            "0no\n",
            "p\n",
            "y\n",
            "t\n",
            "h\n",
            "o\n",
            "n\n",
            "apple\n",
            "banana\n",
            "grapes\n"
          ]
        }
      ]
    },
    {
      "cell_type": "code",
      "source": [
        "#While loop\n",
        "c=1\n",
        "while c<11:\n",
        "  print(c,end=\" \")\n",
        "  c=c+1\n",
        "print(\"\\n\")\n",
        "c=1\n",
        "while c<5:\n",
        "  print(c,end=\" \")\n",
        "  c=c+1\n",
        "else:\n",
        "  print(\"\\n\")\n",
        "  print(c,\"is not less than 5\")"
      ],
      "metadata": {
        "colab": {
          "base_uri": "https://localhost:8080/"
        },
        "id": "9vEg0yg1lRqX",
        "outputId": "81b9501c-e91c-4b71-d3ac-e3f831a94034"
      },
      "execution_count": null,
      "outputs": [
        {
          "output_type": "stream",
          "name": "stdout",
          "text": [
            "1 2 3 4 5 6 7 8 9 10 \n",
            "\n",
            "1 2 3 4 \n",
            "\n",
            "5 is not less than 5\n"
          ]
        }
      ]
    },
    {
      "cell_type": "code",
      "source": [
        "x=[[1,2,3],[4,5,6],[7,8,9]]\n",
        "y=[[1,2,3],[4,5,6],[7,8,9]]\n",
        "res=[[0,0,0],[0,0,0],[0,0,0]]\n",
        "for i in range(len(x)):\n",
        "  for j in range(len(x[0])):\n",
        "    res[i][j]=x[i][j]+y[i][j]\n",
        "for r in res:\n",
        "  print(r)"
      ],
      "metadata": {
        "colab": {
          "base_uri": "https://localhost:8080/"
        },
        "id": "bfzGpVfDqMwD",
        "outputId": "8fff77f8-7389-41bd-c8e2-0dc90f6c2237"
      },
      "execution_count": null,
      "outputs": [
        {
          "output_type": "stream",
          "name": "stdout",
          "text": [
            "[2, 4, 6]\n",
            "[8, 10, 12]\n",
            "[14, 16, 18]\n"
          ]
        }
      ]
    },
    {
      "cell_type": "code",
      "source": [
        "m1=[[3,7],[4,9]]\n",
        "m2=[[6,2],[5,8]]\n",
        "m3=[[0,0],[0,0]]\n",
        "for i in range(len(m1)):\n",
        "    for j in range(len(m2[0])):\n",
        "        for k in range(len(m1[0])):\n",
        "            m3[i][j]=m3[i][j]+m1[i][k]*m2[k][j]\n",
        "print(\"Product of matrix is....\")\n",
        "for i in range(len(m1)):\n",
        "    for j in range(len(m2[0])):\n",
        "        print(m3[i][j],end=' ')\n",
        "    print()   "
      ],
      "metadata": {
        "colab": {
          "base_uri": "https://localhost:8080/"
        },
        "id": "T-Ql298BtANs",
        "outputId": "481924ea-8128-4d2d-de43-4c702d9ed1c8"
      },
      "execution_count": null,
      "outputs": [
        {
          "output_type": "stream",
          "name": "stdout",
          "text": [
            "Product of matrix is....\n",
            "53 62 \n",
            "69 80 \n"
          ]
        }
      ]
    },
    {
      "cell_type": "code",
      "source": [
        "n=int(input(\"Enter till which table you want to print:\"))\n",
        "i=1\n",
        "while(i<=n):\n",
        "  print(f\"Table {i}\")\n",
        "  j=1\n",
        "  while(j<=10):\n",
        "    print(f\"{i}*{j}={i*j}\")\n",
        "    j=j+1\n",
        "  print(\"------------------------\") \n",
        "  i=i+1  "
      ],
      "metadata": {
        "colab": {
          "base_uri": "https://localhost:8080/"
        },
        "id": "TTmyIqjfup_1",
        "outputId": "8bcca46d-7dab-4609-c203-2732e9e4082d"
      },
      "execution_count": null,
      "outputs": [
        {
          "output_type": "stream",
          "name": "stdout",
          "text": [
            "Enter till which table you want to print:3\n",
            "Table 1\n",
            "1*1=1\n",
            "1*2=2\n",
            "1*3=3\n",
            "1*4=4\n",
            "1*5=5\n",
            "1*6=6\n",
            "1*7=7\n",
            "1*8=8\n",
            "1*9=9\n",
            "1*10=10\n",
            "------------------------\n",
            "Table 2\n",
            "2*1=2\n",
            "2*2=4\n",
            "2*3=6\n",
            "2*4=8\n",
            "2*5=10\n",
            "2*6=12\n",
            "2*7=14\n",
            "2*8=16\n",
            "2*9=18\n",
            "2*10=20\n",
            "------------------------\n",
            "Table 3\n",
            "3*1=3\n",
            "3*2=6\n",
            "3*3=9\n",
            "3*4=12\n",
            "3*5=15\n",
            "3*6=18\n",
            "3*7=21\n",
            "3*8=24\n",
            "3*9=27\n",
            "3*10=30\n",
            "------------------------\n"
          ]
        }
      ]
    },
    {
      "cell_type": "code",
      "source": [
        "#CONTROL STATEMENTS\n",
        "#BREAK\n",
        "for l in \"python\":\n",
        "  if l=='t':\n",
        "    break\n",
        "  print(l)  \n",
        "\n",
        "int1=10\n",
        "while(int1>0):\n",
        "  print(int1,end=\" \")\n",
        "  int1=int1-1\n",
        "  if int1==5:\n",
        "    break  \n",
        "#CONTINUE\n",
        "print(\"\\n\")  \n",
        "for l in \"python\":\n",
        "  if l=='t':\n",
        "    continue\n",
        "  print(l)  \n",
        "int1=10\n",
        "while(int1>0):\n",
        "  print(int1,end=\" \")\n",
        "  int1=int1-1\n",
        "  if int1==5:\n",
        "    continue\n",
        "print(\"\\n\")\n",
        "#PASS\n",
        "for l in \"python\":\n",
        "  if l=='t':\n",
        "    pass\n",
        "    print(\"pass block\")\n",
        "  print(l)  \n",
        "int1=10\n",
        "while(int1>0):\n",
        "  print(int1,end=\" \")\n",
        "  int1=int1-1\n",
        "  if int1==5:\n",
        "    print(\"pass\")"
      ],
      "metadata": {
        "colab": {
          "base_uri": "https://localhost:8080/"
        },
        "id": "b3blFuTqvUwZ",
        "outputId": "8c053846-d9cc-48b4-ff94-4d01a91913e3"
      },
      "execution_count": null,
      "outputs": [
        {
          "output_type": "stream",
          "name": "stdout",
          "text": [
            "p\n",
            "y\n",
            "10 9 8 7 6 \n",
            "\n",
            "p\n",
            "y\n",
            "h\n",
            "o\n",
            "n\n",
            "10 9 8 7 6 5 4 3 2 1 \n",
            "\n",
            "p\n",
            "y\n",
            "pass block\n",
            "t\n",
            "h\n",
            "o\n",
            "n\n",
            "10 9 8 7 6 pass\n",
            "5 4 3 2 1 "
          ]
        }
      ]
    },
    {
      "cell_type": "code",
      "source": [
        "min=int(input(\"Enter the min range:\"))\n",
        "max=int(input(\"Enter the max range:\"))\n",
        "for l in range(min,max+1):\n",
        "  r=0\n",
        "  i=n\n",
        "  while i>0:\n",
        "    r=r*10+i%10\n",
        "    i//=10\n",
        "    if(n==r)\n",
        "      \n"
      ],
      "metadata": {
        "colab": {
          "base_uri": "https://localhost:8080/",
          "height": 70
        },
        "id": "SHxh0tyD3vcP",
        "outputId": "84306eb6-1adb-4f07-b537-c7d6a793fbfa"
      },
      "execution_count": null,
      "outputs": [
        {
          "output_type": "stream",
          "name": "stdout",
          "text": [
            "Enter a range:768\n",
            "867\n"
          ]
        },
        {
          "output_type": "execute_result",
          "data": {
            "text/plain": [
              "'for i in range(1,n):\\n  if(l==l[::-1]):\\n    print(i) '"
            ],
            "application/vnd.google.colaboratory.intrinsic+json": {
              "type": "string"
            }
          },
          "metadata": {},
          "execution_count": 78
        }
      ]
    },
    {
      "cell_type": "code",
      "source": [
        "l=[1,2,3,4,5,6]\n",
        "l1=[]\n",
        "for i in l:\n",
        "  if i%2==0:\n",
        "    l1.append(i)\n",
        "print(l1)    "
      ],
      "metadata": {
        "colab": {
          "base_uri": "https://localhost:8080/"
        },
        "id": "kvdwDo8E6RuR",
        "outputId": "ea621735-05d9-4df4-f054-40bf3698c860"
      },
      "execution_count": null,
      "outputs": [
        {
          "output_type": "stream",
          "name": "stdout",
          "text": [
            "[2, 4, 6]\n"
          ]
        }
      ]
    },
    {
      "cell_type": "code",
      "source": [
        "c=[\"Finland\",\"Germany\",\"Sweden\",\"Ireland\",\"Turkey\"]\n",
        "#Output: [“Finland”,”Ireland”]\n",
        "l2=[]\n",
        "for i in c:\n",
        "  if('and' in i):\n",
        "    l2.append(i)\n",
        "print(l2)    "
      ],
      "metadata": {
        "colab": {
          "base_uri": "https://localhost:8080/"
        },
        "id": "0LXdqLJJ-ekj",
        "outputId": "0395aac2-32a9-4820-a0f0-b89eed2e6dfa"
      },
      "execution_count": null,
      "outputs": [
        {
          "output_type": "stream",
          "name": "stdout",
          "text": [
            "['Finland', 'Ireland']\n"
          ]
        }
      ]
    },
    {
      "cell_type": "markdown",
      "source": [
        "Write a python program that print respective grades of student:\n",
        "Grade – Outstanding  for marks>=90\n",
        "\n",
        "Grade A+ for marks >=80, <90\n",
        "\n",
        "Grade A for marks >=70, <80\n",
        "\n",
        "Grade B for marks >=60 and <70\n",
        "\n",
        "<60 Grade C\n"
      ],
      "metadata": {
        "id": "KIzhXsuaBr7E"
      }
    },
    {
      "cell_type": "code",
      "source": [
        "n=int(input('Enter your marks:'))\n",
        "if(n>=90):\n",
        "  print('O')\n",
        "elif (n<90 and n>=80):\n",
        "  print('A+')  \n",
        "elif (n>=70 and n<80):\n",
        "  print('A')\n",
        "elif (n>=60 and n<70):\n",
        "  print('B')\n",
        "elif (n<60):\n",
        "  print('C')      "
      ],
      "metadata": {
        "colab": {
          "base_uri": "https://localhost:8080/"
        },
        "id": "Q1mRJj5gBR4d",
        "outputId": "a41bb5c8-5a51-462e-e42f-5d2681480919"
      },
      "execution_count": null,
      "outputs": [
        {
          "output_type": "stream",
          "name": "stdout",
          "text": [
            "Enter your marks:98\n",
            "O\n"
          ]
        }
      ]
    },
    {
      "cell_type": "code",
      "source": [
        "c=[\"Delhi\",\"Telangana\",\"Goa\",\"AP\",\"Kerala\"]\n",
        "l=[]\n",
        "#Output: dItAgAaOkA\n",
        "for i in c:\n",
        "  i=i.swapcase()\n",
        "  l.append(i[0])\n",
        "  l.append(i[-1])\n",
        " # s=s+i[0].lower()+i[-1].upper()\n",
        "print(''.join(l))  \n"
      ],
      "metadata": {
        "colab": {
          "base_uri": "https://localhost:8080/"
        },
        "id": "nSafPr_mCMxS",
        "outputId": "95caa48e-cc66-4df0-a184-00323dc8d6a1"
      },
      "execution_count": null,
      "outputs": [
        {
          "output_type": "stream",
          "name": "stdout",
          "text": [
            "dItAgAapkA\n"
          ]
        }
      ]
    },
    {
      "cell_type": "code",
      "source": [
        "#User defined\n",
        "def greet(name):\n",
        "  print(\"Hello,\"+name+\" Good Morning\")\n",
        "greet(\"Krish\")  "
      ],
      "metadata": {
        "id": "fMtyPchtFsV6",
        "colab": {
          "base_uri": "https://localhost:8080/"
        },
        "outputId": "16679c64-e249-4572-a9b9-a903b1154b4c"
      },
      "execution_count": null,
      "outputs": [
        {
          "output_type": "stream",
          "name": "stdout",
          "text": [
            "Hello,Krish Good Morning\n"
          ]
        }
      ]
    },
    {
      "cell_type": "code",
      "source": [
        "#Argument passing(5 types)\n",
        "#Default\n",
        "def A(a,b=1,c=2):\n",
        "  return a+b+c\n",
        "print(A(3))\n",
        "print(A(4,4,4))\n",
        "print(A(2,2))  \n",
        "#Keyword \n",
        "def A(a,b=1,c=2):\n",
        "  return a+b+c\n",
        "print(A(a=2,b=3))\n",
        "print(A(a=1,b=2,c=3))\n",
        "#Positional\n",
        "def add(a,b,c):\n",
        "  return a+b+c\n",
        "print(add(10,20,30))\n",
        "print(add(10,b=20,c=30)) \n",
        "#arbitary\n",
        "def k(**kwargs):\n",
        "  return kwargs\n",
        "m=k(Apples=10,oranges=20,grapes=30)\n",
        "print(m['Apples'])  \n",
        "#arbitary pos\n",
        "def add_num(*n):\n",
        "  print(n)\n",
        "  print(sum(n))\n",
        "add_num(5,11)"
      ],
      "metadata": {
        "colab": {
          "base_uri": "https://localhost:8080/"
        },
        "id": "w_F_NzkIbl8k",
        "outputId": "6fcd787e-49b6-46f6-9c96-4bd62250b8c8"
      },
      "execution_count": null,
      "outputs": [
        {
          "output_type": "stream",
          "name": "stdout",
          "text": [
            "6\n",
            "12\n",
            "6\n",
            "7\n",
            "6\n",
            "60\n",
            "60\n",
            "10\n",
            "(5, 11)\n",
            "16\n"
          ]
        }
      ]
    },
    {
      "cell_type": "code",
      "source": [
        "#Higher order functions\n",
        "def shout(text):\n",
        "  return text.upper()\n",
        "def whisper(text):\n",
        "  return text.lower()\n",
        "def explain(func):\n",
        "  greet=func(\"Hi,Iam higher order function\")\n",
        "  print(greet)\n",
        "\n",
        "explain(shout)\n",
        "explain(whisper)    "
      ],
      "metadata": {
        "colab": {
          "base_uri": "https://localhost:8080/"
        },
        "id": "W5qtIAUkcCBc",
        "outputId": "2c7f6786-ddb5-4dae-d696-1ac02308a858"
      },
      "execution_count": null,
      "outputs": [
        {
          "output_type": "stream",
          "name": "stdout",
          "text": [
            "HI,IAM HIGHER ORDER FUNCTION\n",
            "hi,iam higher order function\n"
          ]
        }
      ]
    },
    {
      "cell_type": "code",
      "source": [
        "#Lamda Function\n",
        "def incr(x):\n",
        "  x=x+1\n",
        "  return x\n",
        "print(incr(4))\n",
        "\n",
        "print((lambda x:x+1)(3))\n",
        "res=lambda x:x+1\n",
        "print(res(55))"
      ],
      "metadata": {
        "colab": {
          "base_uri": "https://localhost:8080/"
        },
        "id": "fvYMykMMfamD",
        "outputId": "c30818bb-e9a7-4122-ea4a-338aec89b9c7"
      },
      "execution_count": null,
      "outputs": [
        {
          "output_type": "stream",
          "name": "stdout",
          "text": [
            "5\n",
            "4\n",
            "56\n"
          ]
        }
      ]
    },
    {
      "cell_type": "code",
      "source": [
        "print((lambda x,y:x**y)(2,6))\n",
        "print((lambda x,y:x+y)(2,3))"
      ],
      "metadata": {
        "colab": {
          "base_uri": "https://localhost:8080/"
        },
        "id": "phiWXL-Pf9aC",
        "outputId": "e4b69f0b-934e-4c83-a722-deddd016b80b"
      },
      "execution_count": null,
      "outputs": [
        {
          "output_type": "stream",
          "name": "stdout",
          "text": [
            "64\n",
            "5\n"
          ]
        }
      ]
    },
    {
      "cell_type": "code",
      "source": [
        "l=[1,2,3,4,5,6]\n",
        "def inc(num):\n",
        "  return num+2\n",
        "res=list(map(inc,l))\n",
        "print(res)\n",
        "r1=list(map(lambda x:x+2,l))  \n",
        "print(r1)"
      ],
      "metadata": {
        "colab": {
          "base_uri": "https://localhost:8080/"
        },
        "id": "KcDjQ74ngfdq",
        "outputId": "90151093-4e40-46e4-b252-e9752216694b"
      },
      "execution_count": null,
      "outputs": [
        {
          "output_type": "stream",
          "name": "stdout",
          "text": [
            "[3, 4, 5, 6, 7, 8]\n",
            "[3, 4, 5, 6, 7, 8]\n"
          ]
        }
      ]
    },
    {
      "cell_type": "code",
      "source": [
        "l=[1,2,3,4,5,6]\n",
        "r=list(map(lambda x:x%2==0,l))\n",
        "print(r)\n",
        "def eor(num):\n",
        "  if num%2==0:\n",
        "    return \"{} is even\".format(num)\n",
        "  else:\n",
        "    return \"{} is odd\".format(num)\n",
        "eor(3)"
      ],
      "metadata": {
        "colab": {
          "base_uri": "https://localhost:8080/",
          "height": 52
        },
        "id": "a78QvzgihEKY",
        "outputId": "508792c8-7bc1-4421-8e9b-f282eabb35a2"
      },
      "execution_count": null,
      "outputs": [
        {
          "output_type": "stream",
          "name": "stdout",
          "text": [
            "[False, True, False, True, False, True]\n"
          ]
        },
        {
          "output_type": "execute_result",
          "data": {
            "text/plain": [
              "'3 is odd'"
            ],
            "application/vnd.google.colaboratory.intrinsic+json": {
              "type": "string"
            }
          },
          "metadata": {},
          "execution_count": 31
        }
      ]
    },
    {
      "cell_type": "code",
      "source": [
        "l=[1,2,3,4,5,6]\n",
        "list(map(eor,l))"
      ],
      "metadata": {
        "colab": {
          "base_uri": "https://localhost:8080/"
        },
        "id": "JBqW55MniGBS",
        "outputId": "fa3e8fa5-ee94-42da-f513-70e34279701d"
      },
      "execution_count": null,
      "outputs": [
        {
          "output_type": "execute_result",
          "data": {
            "text/plain": [
              "['1 is odd', '2 is even', '3 is odd', '4 is even', '5 is odd', '6 is even']"
            ]
          },
          "metadata": {},
          "execution_count": 32
        }
      ]
    },
    {
      "cell_type": "code",
      "source": [
        "li=['apple','banana','grapes']\n",
        "r=list(map(lambda x:x.capitalize(),li))\n",
        "print(r)"
      ],
      "metadata": {
        "colab": {
          "base_uri": "https://localhost:8080/"
        },
        "id": "WdD9uNFaipix",
        "outputId": "1156ebed-8553-42d0-c9d7-74310ffaec98"
      },
      "execution_count": null,
      "outputs": [
        {
          "output_type": "stream",
          "name": "stdout",
          "text": [
            "['Apple', 'Banana', 'Grapes']\n"
          ]
        }
      ]
    },
    {
      "cell_type": "code",
      "source": [
        "#Filter\n",
        "def o(n):\n",
        "  if n%2!=0:\n",
        "    return n\n",
        "m=[9,3,4,5,8,-2]\n",
        "print(list(filter(o,m)))\n",
        "m=[4,-5,9,87,99,100]\n",
        "t=list(filter(lambda x:x%2==0,m))\n",
        "print(t)"
      ],
      "metadata": {
        "colab": {
          "base_uri": "https://localhost:8080/"
        },
        "id": "WtT-w_L-jFj_",
        "outputId": "2fc6eccd-e67b-4bf4-9f94-486b1a325d78"
      },
      "execution_count": null,
      "outputs": [
        {
          "output_type": "stream",
          "name": "stdout",
          "text": [
            "[9, 3, 5]\n",
            "[4, 100]\n"
          ]
        }
      ]
    },
    {
      "cell_type": "code",
      "source": [
        "x=int(input())\n",
        "a=('Z'*x)\n",
        "y=len(a)\n",
        "z=2*y\n",
        "y=('O'*z)\n",
        "print(a+y)"
      ],
      "metadata": {
        "colab": {
          "base_uri": "https://localhost:8080/"
        },
        "id": "oXCZijCglF6a",
        "outputId": "574072eb-398e-4d48-e5ed-b6c2b9f07366"
      },
      "execution_count": null,
      "outputs": [
        {
          "output_type": "stream",
          "name": "stdout",
          "text": [
            "6\n",
            "ZZZZZZOOOOOOOOOOOO\n"
          ]
        }
      ]
    },
    {
      "cell_type": "code",
      "source": [
        "import os \n",
        "os.mkdir(\"hi\")\n",
        "os.chdir(\"hi\")\n",
        "os.getcwd()\n",
        "os.listdir()\n",
        "os.rmdir(\"/content/hi\")\n"
      ],
      "metadata": {
        "id": "KRvwXKM9n9EI"
      },
      "execution_count": null,
      "outputs": []
    },
    {
      "cell_type": "code",
      "source": [
        "#math module\n",
        "import math as m\n",
        "print(m.pi)\n",
        "print(m.e)\n",
        "print(m.sqrt(48))\n",
        "print(m.factorial(5))\n",
        "print(m.floor(1.4))\n",
        "print(m.ceil(1.4))\n",
        "print(m.log(10))\n",
        "print(m.tan(5))"
      ],
      "metadata": {
        "colab": {
          "base_uri": "https://localhost:8080/"
        },
        "id": "UHXhsWItrVbb",
        "outputId": "4a5995e1-061e-49e1-d476-4b35868ff82f"
      },
      "execution_count": null,
      "outputs": [
        {
          "output_type": "stream",
          "name": "stdout",
          "text": [
            "3.141592653589793\n",
            "2.718281828459045\n",
            "6.928203230275509\n",
            "120\n",
            "1\n",
            "2\n",
            "2.302585092994046\n",
            "-3.380515006246586\n"
          ]
        }
      ]
    },
    {
      "cell_type": "code",
      "source": [
        "#sys module\n",
        "import sys\n",
        "print(sys.path)\n",
        "print(sys.version)\n",
        "print(sys.maxsize)"
      ],
      "metadata": {
        "colab": {
          "base_uri": "https://localhost:8080/"
        },
        "id": "tYWBbvsrrL33",
        "outputId": "7e3ae672-31af-4f73-c4ef-cbec5fb02164"
      },
      "execution_count": null,
      "outputs": [
        {
          "output_type": "stream",
          "name": "stdout",
          "text": [
            "['', '/content', '/env/python', '/usr/lib/python37.zip', '/usr/lib/python3.7', '/usr/lib/python3.7/lib-dynload', '/usr/local/lib/python3.7/dist-packages', '/usr/lib/python3/dist-packages', '/usr/local/lib/python3.7/dist-packages/IPython/extensions', '/root/.ipython']\n",
            "3.7.13 (default, Apr 24 2022, 01:04:09) \n",
            "[GCC 7.5.0]\n",
            "9223372036854775807\n"
          ]
        }
      ]
    },
    {
      "cell_type": "code",
      "source": [
        "import statistics as s\n",
        "print(s.mean([3,4,5]))\n",
        "print(s.median([3,4,5]))\n",
        "print(s.mode([4,4,5]))\n",
        "print(s.variance([3,4,5]))"
      ],
      "metadata": {
        "colab": {
          "base_uri": "https://localhost:8080/"
        },
        "id": "1kEDO1BKsYOC",
        "outputId": "3691ebf3-94d4-4393-d34d-0b9302f29828"
      },
      "execution_count": null,
      "outputs": [
        {
          "output_type": "stream",
          "name": "stdout",
          "text": [
            "4\n",
            "4\n",
            "4\n",
            "1\n"
          ]
        }
      ]
    },
    {
      "cell_type": "code",
      "source": [
        "#time module\n",
        "import time\n",
        "print(time.time())\n",
        "print(time.localtime())\n",
        "print(time.asctime())\n",
        "print(time.ctime())\n",
        "print(time.sleep(1.5))"
      ],
      "metadata": {
        "colab": {
          "base_uri": "https://localhost:8080/"
        },
        "id": "NqVi48bOsnLH",
        "outputId": "9f36488a-aec9-450b-ec3f-fad9e3596acf"
      },
      "execution_count": null,
      "outputs": [
        {
          "output_type": "stream",
          "name": "stdout",
          "text": [
            "1655201656.2795854\n",
            "time.struct_time(tm_year=2022, tm_mon=6, tm_mday=14, tm_hour=10, tm_min=14, tm_sec=16, tm_wday=1, tm_yday=165, tm_isdst=0)\n",
            "Tue Jun 14 10:14:16 2022\n",
            "Tue Jun 14 10:14:16 2022\n",
            "None\n"
          ]
        }
      ]
    },
    {
      "cell_type": "code",
      "source": [
        "#random module\n",
        "import random as r\n",
        "print(r.randrange(1,50))\n",
        "print(r.randint(1,100))\n",
        "print(r.random())"
      ],
      "metadata": {
        "colab": {
          "base_uri": "https://localhost:8080/"
        },
        "id": "xrewnubntSWK",
        "outputId": "688fb810-18d6-4896-b09c-842769d2de5c"
      },
      "execution_count": null,
      "outputs": [
        {
          "output_type": "stream",
          "name": "stdout",
          "text": [
            "31\n",
            "39\n",
            "0.6144897744581778\n"
          ]
        }
      ]
    },
    {
      "cell_type": "code",
      "source": [
        "l=[1,2,5,6,7,10,15,25,65,78,90]\n",
        "for i in l[:]:\n",
        "  if i%5==0:\n",
        "    l.remove(i)\n",
        "print(l)"
      ],
      "metadata": {
        "colab": {
          "base_uri": "https://localhost:8080/"
        },
        "id": "tBLxqJsetuDp",
        "outputId": "f7404a1a-30eb-4a5a-db9a-3e1e2b730639"
      },
      "execution_count": null,
      "outputs": [
        {
          "output_type": "stream",
          "name": "stdout",
          "text": [
            "[1, 2, 6, 7, 78]\n"
          ]
        }
      ]
    },
    {
      "cell_type": "code",
      "source": [
        "Fruit=[\"Apple\",\"Banana\",\"Pear\",\"Avacado\",\"Orange\",\"Amla\"]\n",
        "#Output: [“Apple”,”Avacado”,”Amla”]\n",
        "for i in Fruit[:]:\n",
        "  if i[0]!='A':\n",
        "    Fruit.remove(i)\n",
        "print(Fruit)    "
      ],
      "metadata": {
        "colab": {
          "base_uri": "https://localhost:8080/"
        },
        "id": "18JygK1L3JZX",
        "outputId": "a20a4b43-3c5a-4782-99ab-ee8456ed71c0"
      },
      "execution_count": null,
      "outputs": [
        {
          "output_type": "stream",
          "name": "stdout",
          "text": [
            "['Apple', 'Avacado', 'Amla']\n"
          ]
        }
      ]
    },
    {
      "cell_type": "code",
      "source": [
        "Fruit=[\"Apple\",\"Banana\",\"Pear\",\"Avacado\",\"Orange\",\"Amla\"]\n",
        "l=[]\n",
        "#Output: [“Apple”,”Avacado”,”Amla”]\n",
        "t=list(filter(lambda x:x[0]=='A',Fruit))\n",
        "print(t)"
      ],
      "metadata": {
        "colab": {
          "base_uri": "https://localhost:8080/"
        },
        "id": "0QebEFD411H4",
        "outputId": "4b921dfb-e6ba-4a7f-d33e-4a5687f5edfe"
      },
      "execution_count": null,
      "outputs": [
        {
          "output_type": "stream",
          "name": "stdout",
          "text": [
            "['Apple', 'Avacado', 'Amla']\n"
          ]
        }
      ]
    },
    {
      "cell_type": "code",
      "source": [
        "dir(list)"
      ],
      "metadata": {
        "colab": {
          "base_uri": "https://localhost:8080/"
        },
        "id": "2Guc-QUr6oOL",
        "outputId": "0bc93cee-7772-4ac6-cecc-bc256cc15f99"
      },
      "execution_count": null,
      "outputs": [
        {
          "output_type": "execute_result",
          "data": {
            "text/plain": [
              "['__add__',\n",
              " '__class__',\n",
              " '__contains__',\n",
              " '__delattr__',\n",
              " '__delitem__',\n",
              " '__dir__',\n",
              " '__doc__',\n",
              " '__eq__',\n",
              " '__format__',\n",
              " '__ge__',\n",
              " '__getattribute__',\n",
              " '__getitem__',\n",
              " '__gt__',\n",
              " '__hash__',\n",
              " '__iadd__',\n",
              " '__imul__',\n",
              " '__init__',\n",
              " '__init_subclass__',\n",
              " '__iter__',\n",
              " '__le__',\n",
              " '__len__',\n",
              " '__lt__',\n",
              " '__mul__',\n",
              " '__ne__',\n",
              " '__new__',\n",
              " '__reduce__',\n",
              " '__reduce_ex__',\n",
              " '__repr__',\n",
              " '__reversed__',\n",
              " '__rmul__',\n",
              " '__setattr__',\n",
              " '__setitem__',\n",
              " '__sizeof__',\n",
              " '__str__',\n",
              " '__subclasshook__',\n",
              " 'append',\n",
              " 'clear',\n",
              " 'copy',\n",
              " 'count',\n",
              " 'extend',\n",
              " 'index',\n",
              " 'insert',\n",
              " 'pop',\n",
              " 'remove',\n",
              " 'reverse',\n",
              " 'sort']"
            ]
          },
          "metadata": {},
          "execution_count": 85
        }
      ]
    },
    {
      "cell_type": "code",
      "source": [
        "msg=\"Welcome to gradstellar bootcamp\"\n",
        "#X=”number of occurrences of ‘o’ in mssg”\n",
        "#Y=”number of occurrences of ‘e’ in mssg”\n",
        "#Compute (X+Y)2\n",
        "x=msg.count('o')\n",
        "print(x)\n",
        "y=msg.count('e')\n",
        "print(y)\n",
        "z=(x+y)**2\n",
        "print(z)\n"
      ],
      "metadata": {
        "colab": {
          "base_uri": "https://localhost:8080/"
        },
        "id": "kx313wZx687a",
        "outputId": "61ad0192-9ace-46f1-834a-0a77d5595adb"
      },
      "execution_count": null,
      "outputs": [
        {
          "output_type": "stream",
          "name": "stdout",
          "text": [
            "4\n",
            "3\n",
            "49\n"
          ]
        }
      ]
    },
    {
      "cell_type": "code",
      "source": [
        "a=['apple','orange','grapes','ball','bat','umbrella']\n",
        "#O/P: [‘apple’,’orange’,’umbrella’]\n",
        "for i in a:\n",
        "  if i[0]!='a':\n",
        "    a.remove(i)\n",
        "  elif i[0]!='e':\n",
        "    a.remove(i)\n",
        "  elif i[0]!='i':\n",
        "    a.remove(i)\n",
        "  elif i[0]=='o':\n",
        "    a.remove(i)\n",
        "  elif i[0]=='u':\n",
        "    a.remove(i)\n",
        "print(a)    "
      ],
      "metadata": {
        "colab": {
          "base_uri": "https://localhost:8080/"
        },
        "id": "YRGphY9q8HAY",
        "outputId": "89ced09f-958e-4769-87ae-67b72602e343"
      },
      "execution_count": null,
      "outputs": [
        {
          "output_type": "stream",
          "name": "stdout",
          "text": [
            "['orange', 'ball', 'umbrella']\n"
          ]
        }
      ]
    },
    {
      "cell_type": "code",
      "source": [
        "Li=[56,78,32,45,45,45,19,20]\n",
        "#O/P: [56,78,32,45,19,20]\n",
        "print(list(set(Li)))"
      ],
      "metadata": {
        "colab": {
          "base_uri": "https://localhost:8080/"
        },
        "id": "cml_WOX998jl",
        "outputId": "efd9eee9-4917-4f9f-9a2b-c0e651b18fef"
      },
      "execution_count": null,
      "outputs": [
        {
          "output_type": "stream",
          "name": "stdout",
          "text": [
            "[32, 45, 78, 19, 20, 56]\n"
          ]
        }
      ]
    },
    {
      "cell_type": "code",
      "source": [
        ""
      ],
      "metadata": {
        "id": "5Ww5DoJS_fHD"
      },
      "execution_count": null,
      "outputs": []
    }
  ]
}